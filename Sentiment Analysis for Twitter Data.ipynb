{
 "cells": [
  {
   "cell_type": "markdown",
   "metadata": {},
   "source": [
    "# Sentiment Analysis"
   ]
  },
  {
   "cell_type": "code",
   "execution_count": 1,
   "metadata": {},
   "outputs": [
    {
     "name": "stderr",
     "output_type": "stream",
     "text": [
      "/usr/local/lib/python3.6/dist-packages/tensorflow/python/framework/dtypes.py:523: FutureWarning: Passing (type, 1) or '1type' as a synonym of type is deprecated; in a future version of numpy, it will be understood as (type, (1,)) / '(1,)type'.\n",
      "  _np_qint8 = np.dtype([(\"qint8\", np.int8, 1)])\n",
      "/usr/local/lib/python3.6/dist-packages/tensorflow/python/framework/dtypes.py:524: FutureWarning: Passing (type, 1) or '1type' as a synonym of type is deprecated; in a future version of numpy, it will be understood as (type, (1,)) / '(1,)type'.\n",
      "  _np_quint8 = np.dtype([(\"quint8\", np.uint8, 1)])\n",
      "/usr/local/lib/python3.6/dist-packages/tensorflow/python/framework/dtypes.py:525: FutureWarning: Passing (type, 1) or '1type' as a synonym of type is deprecated; in a future version of numpy, it will be understood as (type, (1,)) / '(1,)type'.\n",
      "  _np_qint16 = np.dtype([(\"qint16\", np.int16, 1)])\n",
      "/usr/local/lib/python3.6/dist-packages/tensorflow/python/framework/dtypes.py:526: FutureWarning: Passing (type, 1) or '1type' as a synonym of type is deprecated; in a future version of numpy, it will be understood as (type, (1,)) / '(1,)type'.\n",
      "  _np_quint16 = np.dtype([(\"quint16\", np.uint16, 1)])\n",
      "/usr/local/lib/python3.6/dist-packages/tensorflow/python/framework/dtypes.py:527: FutureWarning: Passing (type, 1) or '1type' as a synonym of type is deprecated; in a future version of numpy, it will be understood as (type, (1,)) / '(1,)type'.\n",
      "  _np_qint32 = np.dtype([(\"qint32\", np.int32, 1)])\n",
      "/usr/local/lib/python3.6/dist-packages/tensorflow/python/framework/dtypes.py:532: FutureWarning: Passing (type, 1) or '1type' as a synonym of type is deprecated; in a future version of numpy, it will be understood as (type, (1,)) / '(1,)type'.\n",
      "  np_resource = np.dtype([(\"resource\", np.ubyte, 1)])\n",
      "/usr/local/lib/python3.6/dist-packages/tensorboard/compat/tensorflow_stub/dtypes.py:541: FutureWarning: Passing (type, 1) or '1type' as a synonym of type is deprecated; in a future version of numpy, it will be understood as (type, (1,)) / '(1,)type'.\n",
      "  _np_qint8 = np.dtype([(\"qint8\", np.int8, 1)])\n",
      "/usr/local/lib/python3.6/dist-packages/tensorboard/compat/tensorflow_stub/dtypes.py:542: FutureWarning: Passing (type, 1) or '1type' as a synonym of type is deprecated; in a future version of numpy, it will be understood as (type, (1,)) / '(1,)type'.\n",
      "  _np_quint8 = np.dtype([(\"quint8\", np.uint8, 1)])\n",
      "/usr/local/lib/python3.6/dist-packages/tensorboard/compat/tensorflow_stub/dtypes.py:543: FutureWarning: Passing (type, 1) or '1type' as a synonym of type is deprecated; in a future version of numpy, it will be understood as (type, (1,)) / '(1,)type'.\n",
      "  _np_qint16 = np.dtype([(\"qint16\", np.int16, 1)])\n",
      "/usr/local/lib/python3.6/dist-packages/tensorboard/compat/tensorflow_stub/dtypes.py:544: FutureWarning: Passing (type, 1) or '1type' as a synonym of type is deprecated; in a future version of numpy, it will be understood as (type, (1,)) / '(1,)type'.\n",
      "  _np_quint16 = np.dtype([(\"quint16\", np.uint16, 1)])\n",
      "/usr/local/lib/python3.6/dist-packages/tensorboard/compat/tensorflow_stub/dtypes.py:545: FutureWarning: Passing (type, 1) or '1type' as a synonym of type is deprecated; in a future version of numpy, it will be understood as (type, (1,)) / '(1,)type'.\n",
      "  _np_qint32 = np.dtype([(\"qint32\", np.int32, 1)])\n",
      "/usr/local/lib/python3.6/dist-packages/tensorboard/compat/tensorflow_stub/dtypes.py:550: FutureWarning: Passing (type, 1) or '1type' as a synonym of type is deprecated; in a future version of numpy, it will be understood as (type, (1,)) / '(1,)type'.\n",
      "  np_resource = np.dtype([(\"resource\", np.ubyte, 1)])\n"
     ]
    }
   ],
   "source": [
    "# Required modules\n",
    "\n",
    "import re\n",
    "import numpy as np\n",
    "import pandas as pd\n",
    "import tensorflow as tf\n",
    "from matplotlib import pyplot as plt\n",
    "\n",
    "from textblob import TextBlob\n",
    "from sklearn.model_selection import train_test_split\n",
    "from vaderSentiment.vaderSentiment import SentimentIntensityAnalyzer\n",
    "\n",
    "%matplotlib inline\n",
    "plt.rcParams['figure.figsize'] = (12, 7)"
   ]
  },
  {
   "cell_type": "code",
   "execution_count": 2,
   "metadata": {},
   "outputs": [
    {
     "data": {
      "text/html": [
       "<div>\n",
       "<style scoped>\n",
       "    .dataframe tbody tr th:only-of-type {\n",
       "        vertical-align: middle;\n",
       "    }\n",
       "\n",
       "    .dataframe tbody tr th {\n",
       "        vertical-align: top;\n",
       "    }\n",
       "\n",
       "    .dataframe thead th {\n",
       "        text-align: right;\n",
       "    }\n",
       "</style>\n",
       "<table border=\"1\" class=\"dataframe\">\n",
       "  <thead>\n",
       "    <tr style=\"text-align: right;\">\n",
       "      <th></th>\n",
       "      <th>id</th>\n",
       "      <th>conversation_id</th>\n",
       "      <th>created_at</th>\n",
       "      <th>date</th>\n",
       "      <th>time</th>\n",
       "      <th>timezone</th>\n",
       "      <th>user_id</th>\n",
       "      <th>username</th>\n",
       "      <th>name</th>\n",
       "      <th>place</th>\n",
       "      <th>...</th>\n",
       "      <th>geo</th>\n",
       "      <th>source</th>\n",
       "      <th>user_rt_id</th>\n",
       "      <th>user_rt</th>\n",
       "      <th>retweet_id</th>\n",
       "      <th>reply_to</th>\n",
       "      <th>retweet_date</th>\n",
       "      <th>translate</th>\n",
       "      <th>trans_src</th>\n",
       "      <th>trans_dest</th>\n",
       "    </tr>\n",
       "  </thead>\n",
       "  <tbody>\n",
       "    <tr>\n",
       "      <td>0</td>\n",
       "      <td>1262787913311387649</td>\n",
       "      <td>1262787913311387649</td>\n",
       "      <td>1589907074000</td>\n",
       "      <td>2020-05-19</td>\n",
       "      <td>16:51:14</td>\n",
       "      <td>UTC</td>\n",
       "      <td>1250079805980045318</td>\n",
       "      <td>dramaflick</td>\n",
       "      <td>The Drama Flick</td>\n",
       "      <td>NaN</td>\n",
       "      <td>...</td>\n",
       "      <td>NaN</td>\n",
       "      <td>NaN</td>\n",
       "      <td>NaN</td>\n",
       "      <td>NaN</td>\n",
       "      <td>NaN</td>\n",
       "      <td>[{'user_id': '1250079805980045318', 'username'...</td>\n",
       "      <td>NaN</td>\n",
       "      <td>NaN</td>\n",
       "      <td>NaN</td>\n",
       "      <td>NaN</td>\n",
       "    </tr>\n",
       "    <tr>\n",
       "      <td>1</td>\n",
       "      <td>1262787786152620040</td>\n",
       "      <td>1262787786152620040</td>\n",
       "      <td>1589907044000</td>\n",
       "      <td>2020-05-19</td>\n",
       "      <td>16:50:44</td>\n",
       "      <td>UTC</td>\n",
       "      <td>807843238648299520</td>\n",
       "      <td>knowpuneet</td>\n",
       "      <td>TravelTrainee</td>\n",
       "      <td>NaN</td>\n",
       "      <td>...</td>\n",
       "      <td>NaN</td>\n",
       "      <td>NaN</td>\n",
       "      <td>NaN</td>\n",
       "      <td>NaN</td>\n",
       "      <td>NaN</td>\n",
       "      <td>[{'user_id': '807843238648299520', 'username':...</td>\n",
       "      <td>NaN</td>\n",
       "      <td>NaN</td>\n",
       "      <td>NaN</td>\n",
       "      <td>NaN</td>\n",
       "    </tr>\n",
       "    <tr>\n",
       "      <td>2</td>\n",
       "      <td>1262787219498000384</td>\n",
       "      <td>1262787219498000384</td>\n",
       "      <td>1589906909000</td>\n",
       "      <td>2020-05-19</td>\n",
       "      <td>16:48:29</td>\n",
       "      <td>UTC</td>\n",
       "      <td>1085426639570235392</td>\n",
       "      <td>narasinhpurohit</td>\n",
       "      <td>Narasinh Purohit</td>\n",
       "      <td>NaN</td>\n",
       "      <td>...</td>\n",
       "      <td>NaN</td>\n",
       "      <td>NaN</td>\n",
       "      <td>NaN</td>\n",
       "      <td>NaN</td>\n",
       "      <td>NaN</td>\n",
       "      <td>[{'user_id': '1085426639570235392', 'username'...</td>\n",
       "      <td>NaN</td>\n",
       "      <td>NaN</td>\n",
       "      <td>NaN</td>\n",
       "      <td>NaN</td>\n",
       "    </tr>\n",
       "    <tr>\n",
       "      <td>3</td>\n",
       "      <td>1262786998592434176</td>\n",
       "      <td>1262786998592434176</td>\n",
       "      <td>1589906856000</td>\n",
       "      <td>2020-05-19</td>\n",
       "      <td>16:47:36</td>\n",
       "      <td>UTC</td>\n",
       "      <td>1104213868467806208</td>\n",
       "      <td>ka_trolls</td>\n",
       "      <td>Humans Of Hindutva</td>\n",
       "      <td>NaN</td>\n",
       "      <td>...</td>\n",
       "      <td>NaN</td>\n",
       "      <td>NaN</td>\n",
       "      <td>NaN</td>\n",
       "      <td>NaN</td>\n",
       "      <td>NaN</td>\n",
       "      <td>[{'user_id': '1104213868467806208', 'username'...</td>\n",
       "      <td>NaN</td>\n",
       "      <td>NaN</td>\n",
       "      <td>NaN</td>\n",
       "      <td>NaN</td>\n",
       "    </tr>\n",
       "    <tr>\n",
       "      <td>4</td>\n",
       "      <td>1262786970163441669</td>\n",
       "      <td>1262786970163441669</td>\n",
       "      <td>1589906849000</td>\n",
       "      <td>2020-05-19</td>\n",
       "      <td>16:47:29</td>\n",
       "      <td>UTC</td>\n",
       "      <td>392180204</td>\n",
       "      <td>rajendrabohora</td>\n",
       "      <td>rajendrabohora</td>\n",
       "      <td>NaN</td>\n",
       "      <td>...</td>\n",
       "      <td>NaN</td>\n",
       "      <td>NaN</td>\n",
       "      <td>NaN</td>\n",
       "      <td>NaN</td>\n",
       "      <td>NaN</td>\n",
       "      <td>[{'user_id': '392180204', 'username': 'rajendr...</td>\n",
       "      <td>NaN</td>\n",
       "      <td>NaN</td>\n",
       "      <td>NaN</td>\n",
       "      <td>NaN</td>\n",
       "    </tr>\n",
       "  </tbody>\n",
       "</table>\n",
       "<p>5 rows × 34 columns</p>\n",
       "</div>"
      ],
      "text/plain": [
       "                    id      conversation_id     created_at        date  \\\n",
       "0  1262787913311387649  1262787913311387649  1589907074000  2020-05-19   \n",
       "1  1262787786152620040  1262787786152620040  1589907044000  2020-05-19   \n",
       "2  1262787219498000384  1262787219498000384  1589906909000  2020-05-19   \n",
       "3  1262786998592434176  1262786998592434176  1589906856000  2020-05-19   \n",
       "4  1262786970163441669  1262786970163441669  1589906849000  2020-05-19   \n",
       "\n",
       "       time timezone              user_id         username  \\\n",
       "0  16:51:14      UTC  1250079805980045318       dramaflick   \n",
       "1  16:50:44      UTC   807843238648299520       knowpuneet   \n",
       "2  16:48:29      UTC  1085426639570235392  narasinhpurohit   \n",
       "3  16:47:36      UTC  1104213868467806208        ka_trolls   \n",
       "4  16:47:29      UTC            392180204   rajendrabohora   \n",
       "\n",
       "                 name place  ... geo source user_rt_id user_rt  retweet_id  \\\n",
       "0     The Drama Flick   NaN  ... NaN    NaN        NaN     NaN         NaN   \n",
       "1       TravelTrainee   NaN  ... NaN    NaN        NaN     NaN         NaN   \n",
       "2    Narasinh Purohit   NaN  ... NaN    NaN        NaN     NaN         NaN   \n",
       "3  Humans Of Hindutva   NaN  ... NaN    NaN        NaN     NaN         NaN   \n",
       "4      rajendrabohora   NaN  ... NaN    NaN        NaN     NaN         NaN   \n",
       "\n",
       "                                            reply_to  retweet_date translate  \\\n",
       "0  [{'user_id': '1250079805980045318', 'username'...           NaN       NaN   \n",
       "1  [{'user_id': '807843238648299520', 'username':...           NaN       NaN   \n",
       "2  [{'user_id': '1085426639570235392', 'username'...           NaN       NaN   \n",
       "3  [{'user_id': '1104213868467806208', 'username'...           NaN       NaN   \n",
       "4  [{'user_id': '392180204', 'username': 'rajendr...           NaN       NaN   \n",
       "\n",
       "  trans_src trans_dest  \n",
       "0       NaN        NaN  \n",
       "1       NaN        NaN  \n",
       "2       NaN        NaN  \n",
       "3       NaN        NaN  \n",
       "4       NaN        NaN  \n",
       "\n",
       "[5 rows x 34 columns]"
      ]
     },
     "execution_count": 2,
     "metadata": {},
     "output_type": "execute_result"
    }
   ],
   "source": [
    "# Loading the data\n",
    "\n",
    "data = pd.read_csv('./data/tweets.zip', compression='zip')\n",
    "data.head()"
   ]
  },
  {
   "cell_type": "code",
   "execution_count": 3,
   "metadata": {},
   "outputs": [
    {
     "name": "stdout",
     "output_type": "stream",
     "text": [
      "<class 'pandas.core.frame.DataFrame'>\n",
      "RangeIndex: 124384 entries, 0 to 124383\n",
      "Data columns (total 34 columns):\n",
      "id                 124384 non-null int64\n",
      "conversation_id    124384 non-null int64\n",
      "created_at         124384 non-null int64\n",
      "date               124384 non-null object\n",
      "time               124384 non-null object\n",
      "timezone           124384 non-null object\n",
      "user_id            124384 non-null int64\n",
      "username           124384 non-null object\n",
      "name               124384 non-null object\n",
      "place              9143 non-null object\n",
      "tweet              124384 non-null object\n",
      "mentions           124384 non-null object\n",
      "urls               124384 non-null object\n",
      "photos             124384 non-null object\n",
      "replies_count      124384 non-null int64\n",
      "retweets_count     124384 non-null int64\n",
      "likes_count        124384 non-null int64\n",
      "hashtags           124384 non-null object\n",
      "cashtags           124384 non-null object\n",
      "link               124384 non-null object\n",
      "retweet            124384 non-null bool\n",
      "quote_url          13033 non-null object\n",
      "video              124384 non-null int64\n",
      "near               0 non-null float64\n",
      "geo                0 non-null float64\n",
      "source             0 non-null float64\n",
      "user_rt_id         0 non-null float64\n",
      "user_rt            0 non-null float64\n",
      "retweet_id         0 non-null float64\n",
      "reply_to           124384 non-null object\n",
      "retweet_date       0 non-null float64\n",
      "translate          0 non-null float64\n",
      "trans_src          0 non-null float64\n",
      "trans_dest         0 non-null float64\n",
      "dtypes: bool(1), float64(10), int64(8), object(15)\n",
      "memory usage: 31.4+ MB\n"
     ]
    },
    {
     "data": {
      "text/html": [
       "<div>\n",
       "<style scoped>\n",
       "    .dataframe tbody tr th:only-of-type {\n",
       "        vertical-align: middle;\n",
       "    }\n",
       "\n",
       "    .dataframe tbody tr th {\n",
       "        vertical-align: top;\n",
       "    }\n",
       "\n",
       "    .dataframe thead th {\n",
       "        text-align: right;\n",
       "    }\n",
       "</style>\n",
       "<table border=\"1\" class=\"dataframe\">\n",
       "  <thead>\n",
       "    <tr style=\"text-align: right;\">\n",
       "      <th></th>\n",
       "      <th>id</th>\n",
       "      <th>conversation_id</th>\n",
       "      <th>created_at</th>\n",
       "      <th>user_id</th>\n",
       "      <th>replies_count</th>\n",
       "      <th>retweets_count</th>\n",
       "      <th>likes_count</th>\n",
       "      <th>video</th>\n",
       "      <th>near</th>\n",
       "      <th>geo</th>\n",
       "      <th>source</th>\n",
       "      <th>user_rt_id</th>\n",
       "      <th>user_rt</th>\n",
       "      <th>retweet_id</th>\n",
       "      <th>retweet_date</th>\n",
       "      <th>translate</th>\n",
       "      <th>trans_src</th>\n",
       "      <th>trans_dest</th>\n",
       "    </tr>\n",
       "  </thead>\n",
       "  <tbody>\n",
       "    <tr>\n",
       "      <td>count</td>\n",
       "      <td>1.243840e+05</td>\n",
       "      <td>1.243840e+05</td>\n",
       "      <td>1.243840e+05</td>\n",
       "      <td>1.243840e+05</td>\n",
       "      <td>124384.000000</td>\n",
       "      <td>124384.000000</td>\n",
       "      <td>124384.000000</td>\n",
       "      <td>124384.000000</td>\n",
       "      <td>0.0</td>\n",
       "      <td>0.0</td>\n",
       "      <td>0.0</td>\n",
       "      <td>0.0</td>\n",
       "      <td>0.0</td>\n",
       "      <td>0.0</td>\n",
       "      <td>0.0</td>\n",
       "      <td>0.0</td>\n",
       "      <td>0.0</td>\n",
       "      <td>0.0</td>\n",
       "    </tr>\n",
       "    <tr>\n",
       "      <td>mean</td>\n",
       "      <td>1.248684e+18</td>\n",
       "      <td>1.248494e+18</td>\n",
       "      <td>1.586544e+12</td>\n",
       "      <td>4.351165e+17</td>\n",
       "      <td>0.667626</td>\n",
       "      <td>2.077044</td>\n",
       "      <td>7.881858</td>\n",
       "      <td>0.061953</td>\n",
       "      <td>NaN</td>\n",
       "      <td>NaN</td>\n",
       "      <td>NaN</td>\n",
       "      <td>NaN</td>\n",
       "      <td>NaN</td>\n",
       "      <td>NaN</td>\n",
       "      <td>NaN</td>\n",
       "      <td>NaN</td>\n",
       "      <td>NaN</td>\n",
       "      <td>NaN</td>\n",
       "    </tr>\n",
       "    <tr>\n",
       "      <td>std</td>\n",
       "      <td>2.229079e+16</td>\n",
       "      <td>2.304835e+16</td>\n",
       "      <td>5.369331e+09</td>\n",
       "      <td>5.240636e+17</td>\n",
       "      <td>11.845734</td>\n",
       "      <td>28.424693</td>\n",
       "      <td>121.299772</td>\n",
       "      <td>0.241072</td>\n",
       "      <td>NaN</td>\n",
       "      <td>NaN</td>\n",
       "      <td>NaN</td>\n",
       "      <td>NaN</td>\n",
       "      <td>NaN</td>\n",
       "      <td>NaN</td>\n",
       "      <td>NaN</td>\n",
       "      <td>NaN</td>\n",
       "      <td>NaN</td>\n",
       "      <td>NaN</td>\n",
       "    </tr>\n",
       "    <tr>\n",
       "      <td>min</td>\n",
       "      <td>8.660923e+08</td>\n",
       "      <td>8.660923e+08</td>\n",
       "      <td>1.216819e+12</td>\n",
       "      <td>3.160000e+03</td>\n",
       "      <td>0.000000</td>\n",
       "      <td>0.000000</td>\n",
       "      <td>0.000000</td>\n",
       "      <td>0.000000</td>\n",
       "      <td>NaN</td>\n",
       "      <td>NaN</td>\n",
       "      <td>NaN</td>\n",
       "      <td>NaN</td>\n",
       "      <td>NaN</td>\n",
       "      <td>NaN</td>\n",
       "      <td>NaN</td>\n",
       "      <td>NaN</td>\n",
       "      <td>NaN</td>\n",
       "      <td>NaN</td>\n",
       "    </tr>\n",
       "    <tr>\n",
       "      <td>25%</td>\n",
       "      <td>1.243007e+18</td>\n",
       "      <td>1.242870e+18</td>\n",
       "      <td>1.585191e+12</td>\n",
       "      <td>2.617597e+08</td>\n",
       "      <td>0.000000</td>\n",
       "      <td>0.000000</td>\n",
       "      <td>0.000000</td>\n",
       "      <td>0.000000</td>\n",
       "      <td>NaN</td>\n",
       "      <td>NaN</td>\n",
       "      <td>NaN</td>\n",
       "      <td>NaN</td>\n",
       "      <td>NaN</td>\n",
       "      <td>NaN</td>\n",
       "      <td>NaN</td>\n",
       "      <td>NaN</td>\n",
       "      <td>NaN</td>\n",
       "      <td>NaN</td>\n",
       "    </tr>\n",
       "    <tr>\n",
       "      <td>50%</td>\n",
       "      <td>1.247014e+18</td>\n",
       "      <td>1.246851e+18</td>\n",
       "      <td>1.586146e+12</td>\n",
       "      <td>2.940158e+09</td>\n",
       "      <td>0.000000</td>\n",
       "      <td>0.000000</td>\n",
       "      <td>1.000000</td>\n",
       "      <td>0.000000</td>\n",
       "      <td>NaN</td>\n",
       "      <td>NaN</td>\n",
       "      <td>NaN</td>\n",
       "      <td>NaN</td>\n",
       "      <td>NaN</td>\n",
       "      <td>NaN</td>\n",
       "      <td>NaN</td>\n",
       "      <td>NaN</td>\n",
       "      <td>NaN</td>\n",
       "      <td>NaN</td>\n",
       "    </tr>\n",
       "    <tr>\n",
       "      <td>75%</td>\n",
       "      <td>1.256459e+18</td>\n",
       "      <td>1.256427e+18</td>\n",
       "      <td>1.588398e+12</td>\n",
       "      <td>9.912536e+17</td>\n",
       "      <td>0.000000</td>\n",
       "      <td>0.000000</td>\n",
       "      <td>2.000000</td>\n",
       "      <td>0.000000</td>\n",
       "      <td>NaN</td>\n",
       "      <td>NaN</td>\n",
       "      <td>NaN</td>\n",
       "      <td>NaN</td>\n",
       "      <td>NaN</td>\n",
       "      <td>NaN</td>\n",
       "      <td>NaN</td>\n",
       "      <td>NaN</td>\n",
       "      <td>NaN</td>\n",
       "      <td>NaN</td>\n",
       "    </tr>\n",
       "    <tr>\n",
       "      <td>max</td>\n",
       "      <td>1.263035e+18</td>\n",
       "      <td>1.263035e+18</td>\n",
       "      <td>1.589966e+12</td>\n",
       "      <td>1.262808e+18</td>\n",
       "      <td>2044.000000</td>\n",
       "      <td>3710.000000</td>\n",
       "      <td>19929.000000</td>\n",
       "      <td>1.000000</td>\n",
       "      <td>NaN</td>\n",
       "      <td>NaN</td>\n",
       "      <td>NaN</td>\n",
       "      <td>NaN</td>\n",
       "      <td>NaN</td>\n",
       "      <td>NaN</td>\n",
       "      <td>NaN</td>\n",
       "      <td>NaN</td>\n",
       "      <td>NaN</td>\n",
       "      <td>NaN</td>\n",
       "    </tr>\n",
       "  </tbody>\n",
       "</table>\n",
       "</div>"
      ],
      "text/plain": [
       "                 id  conversation_id    created_at       user_id  \\\n",
       "count  1.243840e+05     1.243840e+05  1.243840e+05  1.243840e+05   \n",
       "mean   1.248684e+18     1.248494e+18  1.586544e+12  4.351165e+17   \n",
       "std    2.229079e+16     2.304835e+16  5.369331e+09  5.240636e+17   \n",
       "min    8.660923e+08     8.660923e+08  1.216819e+12  3.160000e+03   \n",
       "25%    1.243007e+18     1.242870e+18  1.585191e+12  2.617597e+08   \n",
       "50%    1.247014e+18     1.246851e+18  1.586146e+12  2.940158e+09   \n",
       "75%    1.256459e+18     1.256427e+18  1.588398e+12  9.912536e+17   \n",
       "max    1.263035e+18     1.263035e+18  1.589966e+12  1.262808e+18   \n",
       "\n",
       "       replies_count  retweets_count    likes_count          video  near  geo  \\\n",
       "count  124384.000000   124384.000000  124384.000000  124384.000000   0.0  0.0   \n",
       "mean        0.667626        2.077044       7.881858       0.061953   NaN  NaN   \n",
       "std        11.845734       28.424693     121.299772       0.241072   NaN  NaN   \n",
       "min         0.000000        0.000000       0.000000       0.000000   NaN  NaN   \n",
       "25%         0.000000        0.000000       0.000000       0.000000   NaN  NaN   \n",
       "50%         0.000000        0.000000       1.000000       0.000000   NaN  NaN   \n",
       "75%         0.000000        0.000000       2.000000       0.000000   NaN  NaN   \n",
       "max      2044.000000     3710.000000   19929.000000       1.000000   NaN  NaN   \n",
       "\n",
       "       source  user_rt_id  user_rt  retweet_id  retweet_date  translate  \\\n",
       "count     0.0         0.0      0.0         0.0           0.0        0.0   \n",
       "mean      NaN         NaN      NaN         NaN           NaN        NaN   \n",
       "std       NaN         NaN      NaN         NaN           NaN        NaN   \n",
       "min       NaN         NaN      NaN         NaN           NaN        NaN   \n",
       "25%       NaN         NaN      NaN         NaN           NaN        NaN   \n",
       "50%       NaN         NaN      NaN         NaN           NaN        NaN   \n",
       "75%       NaN         NaN      NaN         NaN           NaN        NaN   \n",
       "max       NaN         NaN      NaN         NaN           NaN        NaN   \n",
       "\n",
       "       trans_src  trans_dest  \n",
       "count        0.0         0.0  \n",
       "mean         NaN         NaN  \n",
       "std          NaN         NaN  \n",
       "min          NaN         NaN  \n",
       "25%          NaN         NaN  \n",
       "50%          NaN         NaN  \n",
       "75%          NaN         NaN  \n",
       "max          NaN         NaN  "
      ]
     },
     "execution_count": 3,
     "metadata": {},
     "output_type": "execute_result"
    }
   ],
   "source": [
    "# Inspecting the data\n",
    "\n",
    "data.info()\n",
    "data.describe()"
   ]
  },
  {
   "cell_type": "markdown",
   "metadata": {},
   "source": [
    "## Dealing with Missing values"
   ]
  },
  {
   "cell_type": "code",
   "execution_count": 4,
   "metadata": {},
   "outputs": [
    {
     "name": "stdout",
     "output_type": "stream",
     "text": [
      "Columns which contains missing values: \n"
     ]
    },
    {
     "data": {
      "text/plain": [
       "Index(['place', 'quote_url', 'near', 'geo', 'source', 'user_rt_id', 'user_rt',\n",
       "       'retweet_id', 'retweet_date', 'translate', 'trans_src', 'trans_dest'],\n",
       "      dtype='object')"
      ]
     },
     "execution_count": 4,
     "metadata": {},
     "output_type": "execute_result"
    }
   ],
   "source": [
    "nan_cols = data.columns[data.isna().any()]\n",
    "print(\"Columns which contains missing values: \")\n",
    "nan_cols"
   ]
  },
  {
   "cell_type": "code",
   "execution_count": 5,
   "metadata": {},
   "outputs": [
    {
     "name": "stdout",
     "output_type": "stream",
     "text": [
      "Percentage of Missing values in the columns: \n"
     ]
    },
    {
     "data": {
      "text/plain": [
       "place           0.926494\n",
       "quote_url       0.895220\n",
       "near            1.000000\n",
       "geo             1.000000\n",
       "source          1.000000\n",
       "user_rt_id      1.000000\n",
       "user_rt         1.000000\n",
       "retweet_id      1.000000\n",
       "retweet_date    1.000000\n",
       "translate       1.000000\n",
       "trans_src       1.000000\n",
       "trans_dest      1.000000\n",
       "dtype: float64"
      ]
     },
     "execution_count": 5,
     "metadata": {},
     "output_type": "execute_result"
    }
   ],
   "source": [
    "print(\"Percentage of Missing values in the columns: \")\n",
    "(data[nan_cols].isna().sum()) / len(data)"
   ]
  },
  {
   "cell_type": "code",
   "execution_count": 6,
   "metadata": {},
   "outputs": [],
   "source": [
    "# Dropping all the columns which consists of missing values\n",
    "data.drop(nan_cols, axis=1, inplace=True)"
   ]
  },
  {
   "cell_type": "code",
   "execution_count": 7,
   "metadata": {},
   "outputs": [
    {
     "name": "stdout",
     "output_type": "stream",
     "text": [
      "Index(['id', 'conversation_id', 'created_at', 'date', 'time', 'timezone',\n",
      "       'user_id', 'username', 'name', 'tweet', 'mentions', 'urls', 'photos',\n",
      "       'replies_count', 'retweets_count', 'likes_count', 'hashtags',\n",
      "       'cashtags', 'link', 'retweet', 'video', 'reply_to'],\n",
      "      dtype='object')\n"
     ]
    }
   ],
   "source": [
    "print(data.columns)"
   ]
  },
  {
   "cell_type": "markdown",
   "metadata": {},
   "source": [
    "By careful inspection, we can observe that all the columns except 'tweet' and 'hashtags' are redundant and can be dropped."
   ]
  },
  {
   "cell_type": "code",
   "execution_count": 8,
   "metadata": {},
   "outputs": [
    {
     "data": {
      "text/html": [
       "<div>\n",
       "<style scoped>\n",
       "    .dataframe tbody tr th:only-of-type {\n",
       "        vertical-align: middle;\n",
       "    }\n",
       "\n",
       "    .dataframe tbody tr th {\n",
       "        vertical-align: top;\n",
       "    }\n",
       "\n",
       "    .dataframe thead th {\n",
       "        text-align: right;\n",
       "    }\n",
       "</style>\n",
       "<table border=\"1\" class=\"dataframe\">\n",
       "  <thead>\n",
       "    <tr style=\"text-align: right;\">\n",
       "      <th></th>\n",
       "      <th>tweet</th>\n",
       "      <th>hashtags</th>\n",
       "    </tr>\n",
       "  </thead>\n",
       "  <tbody>\n",
       "    <tr>\n",
       "      <td>0</td>\n",
       "      <td>https://www.youtube.com/watch?v=-CRbO7ExO1k …...</td>\n",
       "      <td>['#lockdownindia', '#lockdown', '#indiafightsc...</td>\n",
       "    </tr>\n",
       "    <tr>\n",
       "      <td>1</td>\n",
       "      <td>Lockdown 4.0 ka.naam hi lockdown hai\\nHai sab ...</td>\n",
       "      <td>['#lockdownindia', '#locldown4']</td>\n",
       "    </tr>\n",
       "    <tr>\n",
       "      <td>2</td>\n",
       "      <td>CORONA VIRUS THREAT-\\nHOW TO OVERCOME STRESS A...</td>\n",
       "      <td>['#covid_19', '#covid_19sa', '#covid_19india',...</td>\n",
       "    </tr>\n",
       "    <tr>\n",
       "      <td>3</td>\n",
       "      <td>Could you please\\n\\n#lockdownindia\\n@Bhuvan_Ba...</td>\n",
       "      <td>['#lockdownindia', '#roastchallenge', '#journa...</td>\n",
       "    </tr>\n",
       "    <tr>\n",
       "      <td>4</td>\n",
       "      <td>In fight with #COVID19, You are the best Docto...</td>\n",
       "      <td>['#covid19', '#coronavirus', '#patiencechallen...</td>\n",
       "    </tr>\n",
       "    <tr>\n",
       "      <td>...</td>\n",
       "      <td>...</td>\n",
       "      <td>...</td>\n",
       "    </tr>\n",
       "    <tr>\n",
       "      <td>1995</td>\n",
       "      <td>Dukh me google maps uninstall kar diya maine ☹...</td>\n",
       "      <td>['#lockdown4', '#lockdownindia', '#covid__19',...</td>\n",
       "    </tr>\n",
       "    <tr>\n",
       "      <td>1996</td>\n",
       "      <td>What did we achieve by #lockdownindia \\n\\nA ne...</td>\n",
       "      <td>['#lockdownindia']</td>\n",
       "    </tr>\n",
       "    <tr>\n",
       "      <td>1997</td>\n",
       "      <td>Finally...\\nYesterday night I reached home fro...</td>\n",
       "      <td>['#lockdownindia']</td>\n",
       "    </tr>\n",
       "    <tr>\n",
       "      <td>1998</td>\n",
       "      <td>#MigrantWorkers FM @nsitharaman Just think ove...</td>\n",
       "      <td>['#migrantworkers', '#lockdownindia']</td>\n",
       "    </tr>\n",
       "    <tr>\n",
       "      <td>1999</td>\n",
       "      <td>#Rajasthan government will issue detailed guid...</td>\n",
       "      <td>['#rajasthan', '#lockdown', '#lockdownindia', ...</td>\n",
       "    </tr>\n",
       "  </tbody>\n",
       "</table>\n",
       "<p>2000 rows × 2 columns</p>\n",
       "</div>"
      ],
      "text/plain": [
       "                                                  tweet  \\\n",
       "0      https://www.youtube.com/watch?v=-CRbO7ExO1k …...   \n",
       "1     Lockdown 4.0 ka.naam hi lockdown hai\\nHai sab ...   \n",
       "2     CORONA VIRUS THREAT-\\nHOW TO OVERCOME STRESS A...   \n",
       "3     Could you please\\n\\n#lockdownindia\\n@Bhuvan_Ba...   \n",
       "4     In fight with #COVID19, You are the best Docto...   \n",
       "...                                                 ...   \n",
       "1995  Dukh me google maps uninstall kar diya maine ☹...   \n",
       "1996  What did we achieve by #lockdownindia \\n\\nA ne...   \n",
       "1997  Finally...\\nYesterday night I reached home fro...   \n",
       "1998  #MigrantWorkers FM @nsitharaman Just think ove...   \n",
       "1999  #Rajasthan government will issue detailed guid...   \n",
       "\n",
       "                                               hashtags  \n",
       "0     ['#lockdownindia', '#lockdown', '#indiafightsc...  \n",
       "1                      ['#lockdownindia', '#locldown4']  \n",
       "2     ['#covid_19', '#covid_19sa', '#covid_19india',...  \n",
       "3     ['#lockdownindia', '#roastchallenge', '#journa...  \n",
       "4     ['#covid19', '#coronavirus', '#patiencechallen...  \n",
       "...                                                 ...  \n",
       "1995  ['#lockdown4', '#lockdownindia', '#covid__19',...  \n",
       "1996                                 ['#lockdownindia']  \n",
       "1997                                 ['#lockdownindia']  \n",
       "1998              ['#migrantworkers', '#lockdownindia']  \n",
       "1999  ['#rajasthan', '#lockdown', '#lockdownindia', ...  \n",
       "\n",
       "[2000 rows x 2 columns]"
      ]
     },
     "execution_count": 8,
     "metadata": {},
     "output_type": "execute_result"
    }
   ],
   "source": [
    "actual_data = data[['tweet', 'hashtags']][:2000]\n",
    "actual_data"
   ]
  },
  {
   "cell_type": "markdown",
   "metadata": {},
   "source": [
    "## Preprocessing data"
   ]
  },
  {
   "cell_type": "code",
   "execution_count": 9,
   "metadata": {},
   "outputs": [],
   "source": [
    "# Removing all the unwanted information from of data\n",
    "\n",
    "actual_data['tweet'] = actual_data['tweet'].apply(lambda x: re.sub(r'#\\w+', ' ', x))                                                                \n",
    "actual_data['tweet'] = actual_data['tweet'].apply(lambda x: re.sub(r'\\n', ' ', x))                                                                  \n",
    "actual_data['tweet'] = actual_data['tweet'].apply(lambda x: re.sub(r'pic.twitter.com/\\w+', ' ', x))                                                            \n",
    "actual_data['tweet'] = actual_data['tweet'].apply(lambda x: re.sub(r'@\\w+', ' ', x))\n",
    "actual_data['tweet'] = actual_data['tweet'].apply(lambda x: re.sub(r'(http|https|ftp)://[a-zA-Z0-9\\\\.\\?\\-\\=/]+\\xa0', ' ', x))"
   ]
  },
  {
   "cell_type": "code",
   "execution_count": 10,
   "metadata": {},
   "outputs": [],
   "source": [
    "# Making a copy of original dataset to be used for different strategy\n",
    "\n",
    "data1 = actual_data.copy()\n",
    "data2 = actual_data.copy()\n",
    "data3 = actual_data.copy()"
   ]
  },
  {
   "cell_type": "markdown",
   "metadata": {},
   "source": [
    "## Lexicon based sentiment analysis"
   ]
  },
  {
   "cell_type": "markdown",
   "metadata": {},
   "source": [
    "### TextBlob\n",
    "This sentiment analysis is done using TextBlob function of the module textblob."
   ]
  },
  {
   "cell_type": "code",
   "execution_count": 11,
   "metadata": {},
   "outputs": [],
   "source": [
    "data1['sentiment'] = data1['tweet'].apply(lambda x: TextBlob(x).sentiment)"
   ]
  },
  {
   "cell_type": "code",
   "execution_count": 12,
   "metadata": {},
   "outputs": [],
   "source": [
    "data1['polarity_value'] = data1['sentiment'].apply(lambda x: x[0])\n",
    "data1['subjectivity'] = data1['sentiment'].apply(lambda x: x[1])"
   ]
  },
  {
   "cell_type": "code",
   "execution_count": 13,
   "metadata": {},
   "outputs": [],
   "source": [
    "data1['polarity_type'] = np.where(data1['polarity_value'].values > 0, 'Positive', np.where(data1['polarity_value'].values < 0, 'Negative', 'Neutral'))"
   ]
  },
  {
   "cell_type": "code",
   "execution_count": 14,
   "metadata": {},
   "outputs": [
    {
     "data": {
      "text/plain": [
       "Positive    873\n",
       "Neutral     789\n",
       "Negative    338\n",
       "Name: polarity_type, dtype: int64"
      ]
     },
     "execution_count": 14,
     "metadata": {},
     "output_type": "execute_result"
    }
   ],
   "source": [
    "# Count of each type of tweets\n",
    "\n",
    "data1['polarity_type'].value_counts()"
   ]
  },
  {
   "cell_type": "markdown",
   "metadata": {},
   "source": [
    "#### Visualization of data"
   ]
  },
  {
   "cell_type": "code",
   "execution_count": 15,
   "metadata": {},
   "outputs": [
    {
     "data": {
      "text/plain": [
       "<BarContainer object of 3 artists>"
      ]
     },
     "execution_count": 15,
     "metadata": {},
     "output_type": "execute_result"
    },
    {
     "data": {
      "image/png": "[encoded data removed]",
      "text/plain": [
       "<Figure size 864x504 with 1 Axes>"
      ]
     },
     "metadata": {
      "needs_background": "light"
     },
     "output_type": "display_data"
    }
   ],
   "source": [
    "# Polarity count\n",
    "\n",
    "_, ax = plt.subplots()\n",
    "ax.set_title(\"Value Counts\", fontsize=20)\n",
    "ax.set_xlabel(\"Polarity Type\", fontsize=15)\n",
    "ax.set_ylabel(\"Count\", fontsize=15)\n",
    "ax.bar(data1['polarity_type'].unique(), height=data1['polarity_type'].value_counts())"
   ]
  },
  {
   "cell_type": "code",
   "execution_count": 16,
   "metadata": {},
   "outputs": [
    {
     "data": {
      "text/plain": [
       "(array([  9.,   0.,   2.,   5.,   3.,  33.,  31.,  51.,  90., 114., 969.,\n",
       "        232., 111., 126.,  22., 124.,  32.,   5.,  18.,  23.]),\n",
       " array([-1. , -0.9, -0.8, -0.7, -0.6, -0.5, -0.4, -0.3, -0.2, -0.1,  0. ,\n",
       "         0.1,  0.2,  0.3,  0.4,  0.5,  0.6,  0.7,  0.8,  0.9,  1. ]),\n",
       " <a list of 20 Patch objects>)"
      ]
     },
     "execution_count": 16,
     "metadata": {},
     "output_type": "execute_result"
    },
    {
     "data": {
      "image/png": "[encoded data removed]",
      "text/plain": [
       "<Figure size 864x504 with 1 Axes>"
      ]
     },
     "metadata": {
      "needs_background": "light"
     },
     "output_type": "display_data"
    }
   ],
   "source": [
    "# Distribution of the polarity value\n",
    "\n",
    "_, ax = plt.subplots()\n",
    "ax.set_title(\"Distribution of polarity\", fontsize=20)\n",
    "ax.set_xlabel(\"Range [-1, 1]\", fontsize=15)\n",
    "ax.set_ylabel(\"No. of tweets\", fontsize=15)\n",
    "\n",
    "ax.hist(data1['polarity_value'], bins=20)"
   ]
  },
  {
   "cell_type": "markdown",
   "metadata": {},
   "source": [
    "### VaderSentiment\n",
    "This sentiment analysis is done using VaderSentiment module"
   ]
  },
  {
   "cell_type": "code",
   "execution_count": 17,
   "metadata": {},
   "outputs": [],
   "source": [
    "analyzer = SentimentIntensityAnalyzer()\n",
    "\n",
    "data2['sentiment'] = data2['tweet'].apply(lambda x: analyzer.polarity_scores(x))"
   ]
  },
  {
   "cell_type": "code",
   "execution_count": 18,
   "metadata": {},
   "outputs": [],
   "source": [
    "data2['positive'] = data2['sentiment'].apply(lambda x: x['pos'])\n",
    "data2['negative'] = data2['sentiment'].apply(lambda x: x['neg'])\n",
    "data2['neutral'] = data2['sentiment'].apply(lambda x: x['neu'])\n",
    "\n",
    "data2['polarity_value'] = data2['sentiment'].apply(lambda x: x['compound'])"
   ]
  },
  {
   "cell_type": "code",
   "execution_count": 19,
   "metadata": {},
   "outputs": [],
   "source": [
    "data2['polarity_type'] = np.where(data2['polarity_value'].values > 0.05, 'Positive', np.where(data2['polarity_value'].values < -0.05, 'Negative', 'Neutral'))"
   ]
  },
  {
   "cell_type": "code",
   "execution_count": 20,
   "metadata": {},
   "outputs": [
    {
     "data": {
      "text/plain": [
       "Positive    850\n",
       "Neutral     655\n",
       "Negative    495\n",
       "Name: polarity_type, dtype: int64"
      ]
     },
     "execution_count": 20,
     "metadata": {},
     "output_type": "execute_result"
    }
   ],
   "source": [
    "# Count of each type of tweets\n",
    "\n",
    "data2['polarity_type'].value_counts()"
   ]
  },
  {
   "cell_type": "markdown",
   "metadata": {},
   "source": [
    "#### Visulization of data"
   ]
  },
  {
   "cell_type": "code",
   "execution_count": 21,
   "metadata": {},
   "outputs": [
    {
     "data": {
      "text/plain": [
       "<BarContainer object of 3 artists>"
      ]
     },
     "execution_count": 21,
     "metadata": {},
     "output_type": "execute_result"
    },
    {
     "data": {
      "image/png": "[encoded data removed]",
      "text/plain": [
       "<Figure size 864x504 with 1 Axes>"
      ]
     },
     "metadata": {
      "needs_background": "light"
     },
     "output_type": "display_data"
    }
   ],
   "source": [
    "# Polarity count\n",
    "\n",
    "_, ax = plt.subplots()\n",
    "ax.set_title(\"Value Counts\", fontsize=20)\n",
    "ax.set_xlabel(\"Polarity Type\", fontsize=15)\n",
    "ax.set_ylabel(\"Count\", fontsize=15)\n",
    "ax.bar(data2['polarity_type'].unique(), height=data2['polarity_type'].value_counts())"
   ]
  },
  {
   "cell_type": "code",
   "execution_count": 22,
   "metadata": {},
   "outputs": [
    {
     "data": {
      "text/plain": [
       "(array([  6.,   2.,  16.,  16.,  63., 119., 221., 346., 420., 791.]),\n",
       " array([0. , 0.1, 0.2, 0.3, 0.4, 0.5, 0.6, 0.7, 0.8, 0.9, 1. ]),\n",
       " <a list of 10 Patch objects>)"
      ]
     },
     "execution_count": 22,
     "metadata": {},
     "output_type": "execute_result"
    },
    {
     "data": {
      "image/png": "[encoded data removed]",
      "text/plain": [
       "<Figure size 864x504 with 3 Axes>"
      ]
     },
     "metadata": {
      "needs_background": "light"
     },
     "output_type": "display_data"
    }
   ],
   "source": [
    "# Degree of polarity\n",
    "\n",
    "fig, ax = plt.subplots(nrows=1, ncols=3)\n",
    "fig.suptitle(\"Degree of polarity\", fontsize=20)\n",
    "ax[0].set_xlabel(\"Positive\", fontsize=15)\n",
    "ax[1].set_xlabel(\"Negative\", fontsize=15)\n",
    "ax[2].set_xlabel(\"Neutral\", fontsize=15)\n",
    "ax[0].set_ylabel(\"Count\", fontsize=15)\n",
    "\n",
    "ax[0].hist(data2['positive'])\n",
    "ax[1].hist(data2['negative'])\n",
    "ax[2].hist(data2['neutral'])"
   ]
  },
  {
   "cell_type": "markdown",
   "metadata": {},
   "source": [
    "## Machine Learning based Sentiment Analysis"
   ]
  },
  {
   "cell_type": "code",
   "execution_count": 23,
   "metadata": {},
   "outputs": [
    {
     "data": {
      "text/html": [
       "<div>\n",
       "<style scoped>\n",
       "    .dataframe tbody tr th:only-of-type {\n",
       "        vertical-align: middle;\n",
       "    }\n",
       "\n",
       "    .dataframe tbody tr th {\n",
       "        vertical-align: top;\n",
       "    }\n",
       "\n",
       "    .dataframe thead th {\n",
       "        text-align: right;\n",
       "    }\n",
       "</style>\n",
       "<table border=\"1\" class=\"dataframe\">\n",
       "  <thead>\n",
       "    <tr style=\"text-align: right;\">\n",
       "      <th></th>\n",
       "      <th>review</th>\n",
       "      <th>sentiment</th>\n",
       "    </tr>\n",
       "  </thead>\n",
       "  <tbody>\n",
       "    <tr>\n",
       "      <td>0</td>\n",
       "      <td>One of the other reviewers has mentioned that ...</td>\n",
       "      <td>positive</td>\n",
       "    </tr>\n",
       "    <tr>\n",
       "      <td>1</td>\n",
       "      <td>A wonderful little production. &lt;br /&gt;&lt;br /&gt;The...</td>\n",
       "      <td>positive</td>\n",
       "    </tr>\n",
       "    <tr>\n",
       "      <td>2</td>\n",
       "      <td>I thought this was a wonderful way to spend ti...</td>\n",
       "      <td>positive</td>\n",
       "    </tr>\n",
       "    <tr>\n",
       "      <td>3</td>\n",
       "      <td>Basically there's a family where a little boy ...</td>\n",
       "      <td>negative</td>\n",
       "    </tr>\n",
       "    <tr>\n",
       "      <td>4</td>\n",
       "      <td>Petter Mattei's \"Love in the Time of Money\" is...</td>\n",
       "      <td>positive</td>\n",
       "    </tr>\n",
       "  </tbody>\n",
       "</table>\n",
       "</div>"
      ],
      "text/plain": [
       "                                              review sentiment\n",
       "0  One of the other reviewers has mentioned that ...  positive\n",
       "1  A wonderful little production. <br /><br />The...  positive\n",
       "2  I thought this was a wonderful way to spend ti...  positive\n",
       "3  Basically there's a family where a little boy ...  negative\n",
       "4  Petter Mattei's \"Love in the Time of Money\" is...  positive"
      ]
     },
     "execution_count": 23,
     "metadata": {},
     "output_type": "execute_result"
    }
   ],
   "source": [
    "# Loading the data\n",
    "\n",
    "imdb_data = pd.read_csv('./data/imdb_data.zip', compression='zip')\n",
    "imdb_data.head()"
   ]
  },
  {
   "cell_type": "code",
   "execution_count": 24,
   "metadata": {},
   "outputs": [
    {
     "name": "stdout",
     "output_type": "stream",
     "text": [
      "<class 'pandas.core.frame.DataFrame'>\n",
      "RangeIndex: 50000 entries, 0 to 49999\n",
      "Data columns (total 2 columns):\n",
      "review       50000 non-null object\n",
      "sentiment    50000 non-null object\n",
      "dtypes: object(2)\n",
      "memory usage: 781.4+ KB\n"
     ]
    },
    {
     "data": {
      "text/html": [
       "<div>\n",
       "<style scoped>\n",
       "    .dataframe tbody tr th:only-of-type {\n",
       "        vertical-align: middle;\n",
       "    }\n",
       "\n",
       "    .dataframe tbody tr th {\n",
       "        vertical-align: top;\n",
       "    }\n",
       "\n",
       "    .dataframe thead th {\n",
       "        text-align: right;\n",
       "    }\n",
       "</style>\n",
       "<table border=\"1\" class=\"dataframe\">\n",
       "  <thead>\n",
       "    <tr style=\"text-align: right;\">\n",
       "      <th></th>\n",
       "      <th>review</th>\n",
       "      <th>sentiment</th>\n",
       "    </tr>\n",
       "  </thead>\n",
       "  <tbody>\n",
       "    <tr>\n",
       "      <td>count</td>\n",
       "      <td>50000</td>\n",
       "      <td>50000</td>\n",
       "    </tr>\n",
       "    <tr>\n",
       "      <td>unique</td>\n",
       "      <td>49582</td>\n",
       "      <td>2</td>\n",
       "    </tr>\n",
       "    <tr>\n",
       "      <td>top</td>\n",
       "      <td>Loved today's show!!! It was a variety and not...</td>\n",
       "      <td>positive</td>\n",
       "    </tr>\n",
       "    <tr>\n",
       "      <td>freq</td>\n",
       "      <td>5</td>\n",
       "      <td>25000</td>\n",
       "    </tr>\n",
       "  </tbody>\n",
       "</table>\n",
       "</div>"
      ],
      "text/plain": [
       "                                                   review sentiment\n",
       "count                                               50000     50000\n",
       "unique                                              49582         2\n",
       "top     Loved today's show!!! It was a variety and not...  positive\n",
       "freq                                                    5     25000"
      ]
     },
     "execution_count": 24,
     "metadata": {},
     "output_type": "execute_result"
    }
   ],
   "source": [
    "# Inspecting data\n",
    "\n",
    "imdb_data.info()\n",
    "imdb_data.describe()"
   ]
  },
  {
   "cell_type": "markdown",
   "metadata": {},
   "source": [
    "### Preprocessing"
   ]
  },
  {
   "cell_type": "code",
   "execution_count": 25,
   "metadata": {},
   "outputs": [],
   "source": [
    "# Some preprocssing\n",
    "# There are some html break tags(replacing them with ' ')\n",
    "\n",
    "imdb_data['review'] = [re.sub(r'<.*?>', ' ', review) for review in imdb_data['review']]"
   ]
  },
  {
   "cell_type": "code",
   "execution_count": 26,
   "metadata": {},
   "outputs": [],
   "source": [
    "# Adding few columns\n",
    "\n",
    "imdb_data['review_len'] = imdb_data['review'].apply(lambda x: len(x.split()))"
   ]
  },
  {
   "cell_type": "code",
   "execution_count": 27,
   "metadata": {},
   "outputs": [],
   "source": [
    "# Converting 'sentiment' into numerical value\n",
    "\n",
    "imdb_data['sentiment_numerical'] = np.where(imdb_data['sentiment'] == 'positive', 1, 0)"
   ]
  },
  {
   "cell_type": "code",
   "execution_count": 28,
   "metadata": {},
   "outputs": [],
   "source": [
    "# Separating out features and labels\n",
    "\n",
    "X = imdb_data['review']\n",
    "y = imdb_data['sentiment_numerical']"
   ]
  },
  {
   "cell_type": "code",
   "execution_count": 29,
   "metadata": {},
   "outputs": [],
   "source": [
    "# Train-Test Split\n",
    "\n",
    "X_train, X_test, y_train, y_test = train_test_split(X, y, test_size=0.25, random_state=88)"
   ]
  },
  {
   "cell_type": "code",
   "execution_count": null,
   "metadata": {},
   "outputs": [],
   "source": [
    "max_words = 10000\n",
    "oov_token = '<OOV>'\n",
    "\n",
    "tokenizer = tf.keras.preprocessing.text.Tokenizer(num_words=max_words)"
   ]
  },
  {
   "cell_type": "code",
   "execution_count": null,
   "metadata": {},
   "outputs": [],
   "source": [
    "tokenizer.fit_on_texts(X)\n",
    "tokenizer.word_index"
   ]
  },
  {
   "cell_type": "code",
   "execution_count": null,
   "metadata": {},
   "outputs": [],
   "source": [
    "# Converting tokens into Sequences\n",
    "\n",
    "X_train_tokens = tokenizer.texts_to_sequences(X_train)\n",
    "X_test_tokens = tokenizer.texts_to_sequences(X_test)"
   ]
  },
  {
   "cell_type": "code",
   "execution_count": null,
   "metadata": {},
   "outputs": [],
   "source": [
    "max_train_word = int(np.mean(imdb_data['review_len']) + 2 * np.std(imdb_data['review_len']))"
   ]
  },
  {
   "cell_type": "code",
   "execution_count": null,
   "metadata": {},
   "outputs": [],
   "source": [
    "pad_type = 'pre'\n",
    "\n",
    "X_train_padded = tf.keras.preprocessing.sequence.pad_sequences(X_train_tokens, maxlen=max_train_word, padding=pad_type, truncating=pad_type)\n",
    "X_test_padded = tf.keras.preprocessing.sequence.pad_sequences(X_test_tokens, maxlen=max_train_word, padding=pad_type, truncating=pad_type)"
   ]
  },
  {
   "cell_type": "code",
   "execution_count": null,
   "metadata": {},
   "outputs": [],
   "source": [
    "# Defining the model\n",
    "\n",
    "embedding_dim = 8\n",
    "\n",
    "model = tf.keras.models.Sequential([\n",
    "    tf.keras.layers.Embedding(input_dim=max_words,\n",
    "                             output_dim=embedding_dim,\n",
    "                             input_length=max_train_word,\n",
    "                             name='embedding_layer'),\n",
    "    tf.keras.layers.LSTM(units=16, return_sequences=True),\n",
    "    tf.keras.layers.LSTM(units=8, return_sequences=True),\n",
    "    tf.keras.layers.LSTM(units=4),\n",
    "    tf.keras.layers.Dense(1, activation='sigmoid')\n",
    "])"
   ]
  },
  {
   "cell_type": "code",
   "execution_count": null,
   "metadata": {},
   "outputs": [],
   "source": [
    "# Defining the optimizer\n",
    "\n",
    "optimizer = tf.keras.optimizers.Adam(lr=0.01)"
   ]
  },
  {
   "cell_type": "code",
   "execution_count": null,
   "metadata": {},
   "outputs": [],
   "source": [
    "model.compile(loss='binary_crossentropy',\n",
    "             optimizer=optimizer,\n",
    "             metrics=['acc'])"
   ]
  },
  {
   "cell_type": "code",
   "execution_count": null,
   "metadata": {},
   "outputs": [],
   "source": [
    "model.summary()"
   ]
  },
  {
   "cell_type": "code",
   "execution_count": null,
   "metadata": {},
   "outputs": [],
   "source": [
    "# Model fitting on the training data\n",
    "\n",
    "epochs=1\n",
    "batch_size = 64\n",
    "\n",
    "history = model.fit(X_train_padded, y_train, validation_split=0.05, epochs=epochs, batch_size=batch_size)"
   ]
  },
  {
   "cell_type": "code",
   "execution_count": null,
   "metadata": {},
   "outputs": [],
   "source": [
    "train_loss = model.evaluate(X_train_padded, y_train)\n",
    "print(\"Training accuracy: {:6f}\".format(train_loss[1]))"
   ]
  },
  {
   "cell_type": "code",
   "execution_count": null,
   "metadata": {},
   "outputs": [],
   "source": [
    "test_loss = model.evaluate(X_test_padded, y_test)\n",
    "print(\"Testing accuracy: {:6f}\".format(test_loss[1]))"
   ]
  },
  {
   "cell_type": "markdown",
   "metadata": {},
   "source": [
    "# Now introducing the original data"
   ]
  },
  {
   "cell_type": "code",
   "execution_count": null,
   "metadata": {},
   "outputs": [],
   "source": [
    "data3"
   ]
  },
  {
   "cell_type": "code",
   "execution_count": null,
   "metadata": {},
   "outputs": [],
   "source": []
  },
  {
   "cell_type": "code",
   "execution_count": null,
   "metadata": {},
   "outputs": [],
   "source": []
  }
 ],
 "metadata": {
  "kernelspec": {
   "display_name": "Python 3",
   "language": "python",
   "name": "python3"
  },
  "language_info": {
   "codemirror_mode": {
    "name": "ipython",
    "version": 3
   },
   "file_extension": ".py",
   "mimetype": "text/x-python",
   "name": "python",
   "nbconvert_exporter": "python",
   "pygments_lexer": "ipython3",
   "version": "3.6.9"
  }
 },
 "nbformat": 4,
 "nbformat_minor": 2
}
