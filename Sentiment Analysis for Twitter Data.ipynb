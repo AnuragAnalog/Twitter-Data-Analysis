{
 "cells": [
  {
   "cell_type": "markdown",
   "metadata": {},
   "source": [
    "# Getting Ready for Analysis"
   ]
  },
  {
   "cell_type": "markdown",
   "metadata": {},
   "source": [
    "Run the below cell to install all the required packages for this notebook."
   ]
  },
  {
   "cell_type": "code",
   "execution_count": 1,
   "metadata": {},
   "outputs": [
    {
     "name": "stdout",
     "output_type": "stream",
     "text": [
      "Defaulting to user installation because normal site-packages is not writeable\n",
      "Requirement already satisfied: emoji>=0.5.4 in /usr/local/lib/python3.6/dist-packages (from -r requirements.txt (line 1)) (0.5.4)\n",
      "Requirement already satisfied: numpy>=1.17.1 in /usr/local/lib/python3.6/dist-packages (from -r requirements.txt (line 2)) (1.17.1)\n",
      "Requirement already satisfied: pandas>=0.25.3 in /usr/local/lib/python3.6/dist-packages (from -r requirements.txt (line 3)) (0.25.3)\n",
      "Requirement already satisfied: textblob>=0.15.3 in /usr/local/lib/python3.6/dist-packages (from -r requirements.txt (line 4)) (0.15.3)\n",
      "Requirement already satisfied: scikit-learn>=0.22.1 in /usr/local/lib/python3.6/dist-packages (from -r requirements.txt (line 5)) (0.22.1)\n",
      "Requirement already satisfied: vaderSentiment>=3.3.2 in /usr/local/lib/python3.6/dist-packages (from -r requirements.txt (line 6)) (3.3.2)\n",
      "Requirement already satisfied: matplotlib>=3.1.2 in /usr/local/lib/python3.6/dist-packages (from -r requirements.txt (line 7)) (3.1.2)\n",
      "Requirement already satisfied: nltk>=3.4.5 in /home/anurag/.local/lib/python3.6/site-packages (from -r requirements.txt (line 8)) (3.4.5)\n",
      "Requirement already satisfied: wordcloud>=1.7.0 in /usr/local/lib/python3.6/dist-packages (from -r requirements.txt (line 9)) (1.7.0)\n",
      "Requirement already satisfied: pytz>=2017.2 in /home/anurag/.local/lib/python3.6/site-packages (from pandas>=0.25.3->-r requirements.txt (line 3)) (2019.3)\n",
      "Requirement already satisfied: python-dateutil>=2.6.1 in /home/anurag/.local/lib/python3.6/site-packages (from pandas>=0.25.3->-r requirements.txt (line 3)) (2.8.1)\n",
      "Requirement already satisfied: scipy>=0.17.0 in /home/anurag/.local/lib/python3.6/site-packages (from scikit-learn>=0.22.1->-r requirements.txt (line 5)) (1.4.1)\n",
      "Requirement already satisfied: joblib>=0.11 in /usr/local/lib/python3.6/dist-packages (from scikit-learn>=0.22.1->-r requirements.txt (line 5)) (0.14.1)\n",
      "Requirement already satisfied: requests in /home/anurag/.local/lib/python3.6/site-packages (from vaderSentiment>=3.3.2->-r requirements.txt (line 6)) (2.22.0)\n",
      "Requirement already satisfied: cycler>=0.10 in /home/anurag/.local/lib/python3.6/site-packages (from matplotlib>=3.1.2->-r requirements.txt (line 7)) (0.10.0)\n",
      "Requirement already satisfied: pyparsing!=2.0.4,!=2.1.2,!=2.1.6,>=2.0.1 in /home/anurag/.local/lib/python3.6/site-packages (from matplotlib>=3.1.2->-r requirements.txt (line 7)) (2.4.5)\n",
      "Requirement already satisfied: kiwisolver>=1.0.1 in /home/anurag/.local/lib/python3.6/site-packages (from matplotlib>=3.1.2->-r requirements.txt (line 7)) (1.1.0)\n",
      "Requirement already satisfied: six in /home/anurag/.local/lib/python3.6/site-packages (from nltk>=3.4.5->-r requirements.txt (line 8)) (1.13.0)\n",
      "Requirement already satisfied: pillow in /usr/local/lib/python3.6/dist-packages (from wordcloud>=1.7.0->-r requirements.txt (line 9)) (6.2.0)\n",
      "Requirement already satisfied: chardet<3.1.0,>=3.0.2 in /home/anurag/.local/lib/python3.6/site-packages (from requests->vaderSentiment>=3.3.2->-r requirements.txt (line 6)) (3.0.4)\n",
      "Requirement already satisfied: idna<2.9,>=2.5 in /home/anurag/.local/lib/python3.6/site-packages (from requests->vaderSentiment>=3.3.2->-r requirements.txt (line 6)) (2.8)\n",
      "Requirement already satisfied: certifi>=2017.4.17 in /home/anurag/.local/lib/python3.6/site-packages (from requests->vaderSentiment>=3.3.2->-r requirements.txt (line 6)) (2019.11.28)\n",
      "Requirement already satisfied: urllib3!=1.25.0,!=1.25.1,<1.26,>=1.21.1 in /home/anurag/.local/lib/python3.6/site-packages (from requests->vaderSentiment>=3.3.2->-r requirements.txt (line 6)) (1.24.3)\n",
      "Requirement already satisfied: setuptools in /usr/local/lib/python3.6/dist-packages (from kiwisolver>=1.0.1->matplotlib>=3.1.2->-r requirements.txt (line 7)) (41.2.0)\n",
      "\u001b[33mWARNING: You are using pip version 20.1; however, version 20.1.1 is available.\n",
      "You should consider upgrading via the '/usr/bin/python3 -m pip install --upgrade pip' command.\u001b[0m\n"
     ]
    }
   ],
   "source": [
    "!pip3 install -r requirements.txt"
   ]
  },
  {
   "cell_type": "markdown",
   "metadata": {
    "colab_type": "text",
    "id": "By-n6lOR6JdY"
   },
   "source": [
    "# Sentiment Analysis"
   ]
  },
  {
   "cell_type": "markdown",
   "metadata": {},
   "source": [
    "I used two approaches in predicting the sentiment of the given data.\n",
    "\n",
    "* Lexicon based Sentiment Method\n",
    "* Machine Learning based Sentiment Method\n",
    "\n",
    "In the lexicon-based method, I have used two third-party libraries to predict the sentiments.\n",
    "\n",
    "* TextBlob\n",
    "* vaderSentiment\n",
    "\n",
    "Both of these methods used a pre-defined valance score of the words to predict tweets' sentiment.\n",
    "\n",
    "Coming to Machine Learning based prediction, we cannot use any traditional method of training the model and predicting on test data.\n",
    "\n",
    "But we are provided with the unlabelled data. So, we cannot carry out the supervised learning strategy\n",
    "\n",
    "So, I have used the IMDB Movie review dataset to train a neural network model and then use that model to predict the given tweets data.\n",
    "\n",
    "This gave a very similar result compared to the lexicon-based methods."
   ]
  },
  {
   "cell_type": "markdown",
   "metadata": {},
   "source": [
    "**Why these modules?**\n",
    "\n",
    "* *re:* It is used in preprocessing the data.\n",
    "\n",
    "* *emoji:* To remove all the emoji's (part of preprocessing step)\n",
    "\n",
    "* *numpy:* For doing some numerical calculations\n",
    "\n",
    "* *pandas:* For loading the data into dataframe's\n",
    "\n",
    "* *sklearn:* Splitting the dataset into train and test sets\n",
    "\n",
    "* *tensorflow:* To build the machine learning\n",
    "\n",
    "* *matplotlib:* For visualization of graphs and plots\n",
    "\n",
    "* *textblob:* To compute lexicon based sentiment(method-1)\n",
    "\n",
    "* *vaderSentiment:* To compute lexicon based sentiment(method-2)"
   ]
  },
  {
   "cell_type": "code",
   "execution_count": 2,
   "metadata": {
    "colab": {},
    "colab_type": "code",
    "id": "9UnXsNGS6Jdb"
   },
   "outputs": [
    {
     "name": "stderr",
     "output_type": "stream",
     "text": [
      "/usr/local/lib/python3.6/dist-packages/tensorflow/python/framework/dtypes.py:523: FutureWarning: Passing (type, 1) or '1type' as a synonym of type is deprecated; in a future version of numpy, it will be understood as (type, (1,)) / '(1,)type'.\n",
      "  _np_qint8 = np.dtype([(\"qint8\", np.int8, 1)])\n",
      "/usr/local/lib/python3.6/dist-packages/tensorflow/python/framework/dtypes.py:524: FutureWarning: Passing (type, 1) or '1type' as a synonym of type is deprecated; in a future version of numpy, it will be understood as (type, (1,)) / '(1,)type'.\n",
      "  _np_quint8 = np.dtype([(\"quint8\", np.uint8, 1)])\n",
      "/usr/local/lib/python3.6/dist-packages/tensorflow/python/framework/dtypes.py:525: FutureWarning: Passing (type, 1) or '1type' as a synonym of type is deprecated; in a future version of numpy, it will be understood as (type, (1,)) / '(1,)type'.\n",
      "  _np_qint16 = np.dtype([(\"qint16\", np.int16, 1)])\n",
      "/usr/local/lib/python3.6/dist-packages/tensorflow/python/framework/dtypes.py:526: FutureWarning: Passing (type, 1) or '1type' as a synonym of type is deprecated; in a future version of numpy, it will be understood as (type, (1,)) / '(1,)type'.\n",
      "  _np_quint16 = np.dtype([(\"quint16\", np.uint16, 1)])\n",
      "/usr/local/lib/python3.6/dist-packages/tensorflow/python/framework/dtypes.py:527: FutureWarning: Passing (type, 1) or '1type' as a synonym of type is deprecated; in a future version of numpy, it will be understood as (type, (1,)) / '(1,)type'.\n",
      "  _np_qint32 = np.dtype([(\"qint32\", np.int32, 1)])\n",
      "/usr/local/lib/python3.6/dist-packages/tensorflow/python/framework/dtypes.py:532: FutureWarning: Passing (type, 1) or '1type' as a synonym of type is deprecated; in a future version of numpy, it will be understood as (type, (1,)) / '(1,)type'.\n",
      "  np_resource = np.dtype([(\"resource\", np.ubyte, 1)])\n",
      "/usr/local/lib/python3.6/dist-packages/tensorboard/compat/tensorflow_stub/dtypes.py:541: FutureWarning: Passing (type, 1) or '1type' as a synonym of type is deprecated; in a future version of numpy, it will be understood as (type, (1,)) / '(1,)type'.\n",
      "  _np_qint8 = np.dtype([(\"qint8\", np.int8, 1)])\n",
      "/usr/local/lib/python3.6/dist-packages/tensorboard/compat/tensorflow_stub/dtypes.py:542: FutureWarning: Passing (type, 1) or '1type' as a synonym of type is deprecated; in a future version of numpy, it will be understood as (type, (1,)) / '(1,)type'.\n",
      "  _np_quint8 = np.dtype([(\"quint8\", np.uint8, 1)])\n",
      "/usr/local/lib/python3.6/dist-packages/tensorboard/compat/tensorflow_stub/dtypes.py:543: FutureWarning: Passing (type, 1) or '1type' as a synonym of type is deprecated; in a future version of numpy, it will be understood as (type, (1,)) / '(1,)type'.\n",
      "  _np_qint16 = np.dtype([(\"qint16\", np.int16, 1)])\n",
      "/usr/local/lib/python3.6/dist-packages/tensorboard/compat/tensorflow_stub/dtypes.py:544: FutureWarning: Passing (type, 1) or '1type' as a synonym of type is deprecated; in a future version of numpy, it will be understood as (type, (1,)) / '(1,)type'.\n",
      "  _np_quint16 = np.dtype([(\"quint16\", np.uint16, 1)])\n",
      "/usr/local/lib/python3.6/dist-packages/tensorboard/compat/tensorflow_stub/dtypes.py:545: FutureWarning: Passing (type, 1) or '1type' as a synonym of type is deprecated; in a future version of numpy, it will be understood as (type, (1,)) / '(1,)type'.\n",
      "  _np_qint32 = np.dtype([(\"qint32\", np.int32, 1)])\n",
      "/usr/local/lib/python3.6/dist-packages/tensorboard/compat/tensorflow_stub/dtypes.py:550: FutureWarning: Passing (type, 1) or '1type' as a synonym of type is deprecated; in a future version of numpy, it will be understood as (type, (1,)) / '(1,)type'.\n",
      "  np_resource = np.dtype([(\"resource\", np.ubyte, 1)])\n"
     ]
    }
   ],
   "source": [
    "# Required modules\n",
    "\n",
    "import re\n",
    "import emoji\n",
    "import numpy as np\n",
    "import pandas as pd\n",
    "import seaborn as sns\n",
    "import tensorflow as tf\n",
    "from matplotlib import pyplot as plt\n",
    "\n",
    "from textblob import TextBlob\n",
    "from sklearn.metrics import confusion_matrix\n",
    "from sklearn.model_selection import train_test_split\n",
    "from vaderSentiment.vaderSentiment import SentimentIntensityAnalyzer\n",
    "\n",
    "%matplotlib inline\n",
    "plt.rcParams['figure.figsize'] = (12, 7)"
   ]
  },
  {
   "cell_type": "code",
   "execution_count": 3,
   "metadata": {
    "colab": {
     "base_uri": "https://localhost:8080/",
     "height": 435
    },
    "colab_type": "code",
    "id": "5JUJLrha6Jdw",
    "outputId": "5fb028fb-57eb-4da8-da6c-d4590497f637"
   },
   "outputs": [
    {
     "data": {
      "text/html": [
       "<div>\n",
       "<style scoped>\n",
       "    .dataframe tbody tr th:only-of-type {\n",
       "        vertical-align: middle;\n",
       "    }\n",
       "\n",
       "    .dataframe tbody tr th {\n",
       "        vertical-align: top;\n",
       "    }\n",
       "\n",
       "    .dataframe thead th {\n",
       "        text-align: right;\n",
       "    }\n",
       "</style>\n",
       "<table border=\"1\" class=\"dataframe\">\n",
       "  <thead>\n",
       "    <tr style=\"text-align: right;\">\n",
       "      <th></th>\n",
       "      <th>id</th>\n",
       "      <th>conversation_id</th>\n",
       "      <th>created_at</th>\n",
       "      <th>date</th>\n",
       "      <th>time</th>\n",
       "      <th>timezone</th>\n",
       "      <th>user_id</th>\n",
       "      <th>username</th>\n",
       "      <th>name</th>\n",
       "      <th>place</th>\n",
       "      <th>...</th>\n",
       "      <th>geo</th>\n",
       "      <th>source</th>\n",
       "      <th>user_rt_id</th>\n",
       "      <th>user_rt</th>\n",
       "      <th>retweet_id</th>\n",
       "      <th>reply_to</th>\n",
       "      <th>retweet_date</th>\n",
       "      <th>translate</th>\n",
       "      <th>trans_src</th>\n",
       "      <th>trans_dest</th>\n",
       "    </tr>\n",
       "  </thead>\n",
       "  <tbody>\n",
       "    <tr>\n",
       "      <td>0</td>\n",
       "      <td>1262787913311387649</td>\n",
       "      <td>1262787913311387649</td>\n",
       "      <td>1589907074000</td>\n",
       "      <td>2020-05-19</td>\n",
       "      <td>16:51:14</td>\n",
       "      <td>UTC</td>\n",
       "      <td>1250079805980045318</td>\n",
       "      <td>dramaflick</td>\n",
       "      <td>The Drama Flick</td>\n",
       "      <td>NaN</td>\n",
       "      <td>...</td>\n",
       "      <td>NaN</td>\n",
       "      <td>NaN</td>\n",
       "      <td>NaN</td>\n",
       "      <td>NaN</td>\n",
       "      <td>NaN</td>\n",
       "      <td>[{'user_id': '1250079805980045318', 'username'...</td>\n",
       "      <td>NaN</td>\n",
       "      <td>NaN</td>\n",
       "      <td>NaN</td>\n",
       "      <td>NaN</td>\n",
       "    </tr>\n",
       "    <tr>\n",
       "      <td>1</td>\n",
       "      <td>1262787786152620040</td>\n",
       "      <td>1262787786152620040</td>\n",
       "      <td>1589907044000</td>\n",
       "      <td>2020-05-19</td>\n",
       "      <td>16:50:44</td>\n",
       "      <td>UTC</td>\n",
       "      <td>807843238648299520</td>\n",
       "      <td>knowpuneet</td>\n",
       "      <td>TravelTrainee</td>\n",
       "      <td>NaN</td>\n",
       "      <td>...</td>\n",
       "      <td>NaN</td>\n",
       "      <td>NaN</td>\n",
       "      <td>NaN</td>\n",
       "      <td>NaN</td>\n",
       "      <td>NaN</td>\n",
       "      <td>[{'user_id': '807843238648299520', 'username':...</td>\n",
       "      <td>NaN</td>\n",
       "      <td>NaN</td>\n",
       "      <td>NaN</td>\n",
       "      <td>NaN</td>\n",
       "    </tr>\n",
       "    <tr>\n",
       "      <td>2</td>\n",
       "      <td>1262787219498000384</td>\n",
       "      <td>1262787219498000384</td>\n",
       "      <td>1589906909000</td>\n",
       "      <td>2020-05-19</td>\n",
       "      <td>16:48:29</td>\n",
       "      <td>UTC</td>\n",
       "      <td>1085426639570235392</td>\n",
       "      <td>narasinhpurohit</td>\n",
       "      <td>Narasinh Purohit</td>\n",
       "      <td>NaN</td>\n",
       "      <td>...</td>\n",
       "      <td>NaN</td>\n",
       "      <td>NaN</td>\n",
       "      <td>NaN</td>\n",
       "      <td>NaN</td>\n",
       "      <td>NaN</td>\n",
       "      <td>[{'user_id': '1085426639570235392', 'username'...</td>\n",
       "      <td>NaN</td>\n",
       "      <td>NaN</td>\n",
       "      <td>NaN</td>\n",
       "      <td>NaN</td>\n",
       "    </tr>\n",
       "    <tr>\n",
       "      <td>3</td>\n",
       "      <td>1262786998592434176</td>\n",
       "      <td>1262786998592434176</td>\n",
       "      <td>1589906856000</td>\n",
       "      <td>2020-05-19</td>\n",
       "      <td>16:47:36</td>\n",
       "      <td>UTC</td>\n",
       "      <td>1104213868467806208</td>\n",
       "      <td>ka_trolls</td>\n",
       "      <td>Humans Of Hindutva</td>\n",
       "      <td>NaN</td>\n",
       "      <td>...</td>\n",
       "      <td>NaN</td>\n",
       "      <td>NaN</td>\n",
       "      <td>NaN</td>\n",
       "      <td>NaN</td>\n",
       "      <td>NaN</td>\n",
       "      <td>[{'user_id': '1104213868467806208', 'username'...</td>\n",
       "      <td>NaN</td>\n",
       "      <td>NaN</td>\n",
       "      <td>NaN</td>\n",
       "      <td>NaN</td>\n",
       "    </tr>\n",
       "    <tr>\n",
       "      <td>4</td>\n",
       "      <td>1262786970163441669</td>\n",
       "      <td>1262786970163441669</td>\n",
       "      <td>1589906849000</td>\n",
       "      <td>2020-05-19</td>\n",
       "      <td>16:47:29</td>\n",
       "      <td>UTC</td>\n",
       "      <td>392180204</td>\n",
       "      <td>rajendrabohora</td>\n",
       "      <td>rajendrabohora</td>\n",
       "      <td>NaN</td>\n",
       "      <td>...</td>\n",
       "      <td>NaN</td>\n",
       "      <td>NaN</td>\n",
       "      <td>NaN</td>\n",
       "      <td>NaN</td>\n",
       "      <td>NaN</td>\n",
       "      <td>[{'user_id': '392180204', 'username': 'rajendr...</td>\n",
       "      <td>NaN</td>\n",
       "      <td>NaN</td>\n",
       "      <td>NaN</td>\n",
       "      <td>NaN</td>\n",
       "    </tr>\n",
       "  </tbody>\n",
       "</table>\n",
       "<p>5 rows × 34 columns</p>\n",
       "</div>"
      ],
      "text/plain": [
       "                    id      conversation_id     created_at        date  \\\n",
       "0  1262787913311387649  1262787913311387649  1589907074000  2020-05-19   \n",
       "1  1262787786152620040  1262787786152620040  1589907044000  2020-05-19   \n",
       "2  1262787219498000384  1262787219498000384  1589906909000  2020-05-19   \n",
       "3  1262786998592434176  1262786998592434176  1589906856000  2020-05-19   \n",
       "4  1262786970163441669  1262786970163441669  1589906849000  2020-05-19   \n",
       "\n",
       "       time timezone              user_id         username  \\\n",
       "0  16:51:14      UTC  1250079805980045318       dramaflick   \n",
       "1  16:50:44      UTC   807843238648299520       knowpuneet   \n",
       "2  16:48:29      UTC  1085426639570235392  narasinhpurohit   \n",
       "3  16:47:36      UTC  1104213868467806208        ka_trolls   \n",
       "4  16:47:29      UTC            392180204   rajendrabohora   \n",
       "\n",
       "                 name place  ... geo source user_rt_id user_rt  retweet_id  \\\n",
       "0     The Drama Flick   NaN  ... NaN    NaN        NaN     NaN         NaN   \n",
       "1       TravelTrainee   NaN  ... NaN    NaN        NaN     NaN         NaN   \n",
       "2    Narasinh Purohit   NaN  ... NaN    NaN        NaN     NaN         NaN   \n",
       "3  Humans Of Hindutva   NaN  ... NaN    NaN        NaN     NaN         NaN   \n",
       "4      rajendrabohora   NaN  ... NaN    NaN        NaN     NaN         NaN   \n",
       "\n",
       "                                            reply_to  retweet_date translate  \\\n",
       "0  [{'user_id': '1250079805980045318', 'username'...           NaN       NaN   \n",
       "1  [{'user_id': '807843238648299520', 'username':...           NaN       NaN   \n",
       "2  [{'user_id': '1085426639570235392', 'username'...           NaN       NaN   \n",
       "3  [{'user_id': '1104213868467806208', 'username'...           NaN       NaN   \n",
       "4  [{'user_id': '392180204', 'username': 'rajendr...           NaN       NaN   \n",
       "\n",
       "  trans_src trans_dest  \n",
       "0       NaN        NaN  \n",
       "1       NaN        NaN  \n",
       "2       NaN        NaN  \n",
       "3       NaN        NaN  \n",
       "4       NaN        NaN  \n",
       "\n",
       "[5 rows x 34 columns]"
      ]
     },
     "execution_count": 3,
     "metadata": {},
     "output_type": "execute_result"
    }
   ],
   "source": [
    "# Loading the data\n",
    "\n",
    "data = pd.read_csv('./data/tweets.zip', compression='zip')\n",
    "data.head()"
   ]
  },
  {
   "cell_type": "code",
   "execution_count": 4,
   "metadata": {
    "colab": {
     "base_uri": "https://localhost:8080/",
     "height": 1000
    },
    "colab_type": "code",
    "id": "lReIpXRq6Jd_",
    "outputId": "07f77f21-0a42-4849-b733-7751c4cac491"
   },
   "outputs": [
    {
     "name": "stdout",
     "output_type": "stream",
     "text": [
      "<class 'pandas.core.frame.DataFrame'>\n",
      "RangeIndex: 124384 entries, 0 to 124383\n",
      "Data columns (total 34 columns):\n",
      "id                 124384 non-null int64\n",
      "conversation_id    124384 non-null int64\n",
      "created_at         124384 non-null int64\n",
      "date               124384 non-null object\n",
      "time               124384 non-null object\n",
      "timezone           124384 non-null object\n",
      "user_id            124384 non-null int64\n",
      "username           124384 non-null object\n",
      "name               124384 non-null object\n",
      "place              9143 non-null object\n",
      "tweet              124384 non-null object\n",
      "mentions           124384 non-null object\n",
      "urls               124384 non-null object\n",
      "photos             124384 non-null object\n",
      "replies_count      124384 non-null int64\n",
      "retweets_count     124384 non-null int64\n",
      "likes_count        124384 non-null int64\n",
      "hashtags           124384 non-null object\n",
      "cashtags           124384 non-null object\n",
      "link               124384 non-null object\n",
      "retweet            124384 non-null bool\n",
      "quote_url          13033 non-null object\n",
      "video              124384 non-null int64\n",
      "near               0 non-null float64\n",
      "geo                0 non-null float64\n",
      "source             0 non-null float64\n",
      "user_rt_id         0 non-null float64\n",
      "user_rt            0 non-null float64\n",
      "retweet_id         0 non-null float64\n",
      "reply_to           124384 non-null object\n",
      "retweet_date       0 non-null float64\n",
      "translate          0 non-null float64\n",
      "trans_src          0 non-null float64\n",
      "trans_dest         0 non-null float64\n",
      "dtypes: bool(1), float64(10), int64(8), object(15)\n",
      "memory usage: 31.4+ MB\n"
     ]
    },
    {
     "data": {
      "text/html": [
       "<div>\n",
       "<style scoped>\n",
       "    .dataframe tbody tr th:only-of-type {\n",
       "        vertical-align: middle;\n",
       "    }\n",
       "\n",
       "    .dataframe tbody tr th {\n",
       "        vertical-align: top;\n",
       "    }\n",
       "\n",
       "    .dataframe thead th {\n",
       "        text-align: right;\n",
       "    }\n",
       "</style>\n",
       "<table border=\"1\" class=\"dataframe\">\n",
       "  <thead>\n",
       "    <tr style=\"text-align: right;\">\n",
       "      <th></th>\n",
       "      <th>id</th>\n",
       "      <th>conversation_id</th>\n",
       "      <th>created_at</th>\n",
       "      <th>user_id</th>\n",
       "      <th>replies_count</th>\n",
       "      <th>retweets_count</th>\n",
       "      <th>likes_count</th>\n",
       "      <th>video</th>\n",
       "      <th>near</th>\n",
       "      <th>geo</th>\n",
       "      <th>source</th>\n",
       "      <th>user_rt_id</th>\n",
       "      <th>user_rt</th>\n",
       "      <th>retweet_id</th>\n",
       "      <th>retweet_date</th>\n",
       "      <th>translate</th>\n",
       "      <th>trans_src</th>\n",
       "      <th>trans_dest</th>\n",
       "    </tr>\n",
       "  </thead>\n",
       "  <tbody>\n",
       "    <tr>\n",
       "      <td>count</td>\n",
       "      <td>1.243840e+05</td>\n",
       "      <td>1.243840e+05</td>\n",
       "      <td>1.243840e+05</td>\n",
       "      <td>1.243840e+05</td>\n",
       "      <td>124384.000000</td>\n",
       "      <td>124384.000000</td>\n",
       "      <td>124384.000000</td>\n",
       "      <td>124384.000000</td>\n",
       "      <td>0.0</td>\n",
       "      <td>0.0</td>\n",
       "      <td>0.0</td>\n",
       "      <td>0.0</td>\n",
       "      <td>0.0</td>\n",
       "      <td>0.0</td>\n",
       "      <td>0.0</td>\n",
       "      <td>0.0</td>\n",
       "      <td>0.0</td>\n",
       "      <td>0.0</td>\n",
       "    </tr>\n",
       "    <tr>\n",
       "      <td>mean</td>\n",
       "      <td>1.248684e+18</td>\n",
       "      <td>1.248494e+18</td>\n",
       "      <td>1.586544e+12</td>\n",
       "      <td>4.351165e+17</td>\n",
       "      <td>0.667626</td>\n",
       "      <td>2.077044</td>\n",
       "      <td>7.881858</td>\n",
       "      <td>0.061953</td>\n",
       "      <td>NaN</td>\n",
       "      <td>NaN</td>\n",
       "      <td>NaN</td>\n",
       "      <td>NaN</td>\n",
       "      <td>NaN</td>\n",
       "      <td>NaN</td>\n",
       "      <td>NaN</td>\n",
       "      <td>NaN</td>\n",
       "      <td>NaN</td>\n",
       "      <td>NaN</td>\n",
       "    </tr>\n",
       "    <tr>\n",
       "      <td>std</td>\n",
       "      <td>2.229079e+16</td>\n",
       "      <td>2.304835e+16</td>\n",
       "      <td>5.369331e+09</td>\n",
       "      <td>5.240636e+17</td>\n",
       "      <td>11.845734</td>\n",
       "      <td>28.424693</td>\n",
       "      <td>121.299772</td>\n",
       "      <td>0.241072</td>\n",
       "      <td>NaN</td>\n",
       "      <td>NaN</td>\n",
       "      <td>NaN</td>\n",
       "      <td>NaN</td>\n",
       "      <td>NaN</td>\n",
       "      <td>NaN</td>\n",
       "      <td>NaN</td>\n",
       "      <td>NaN</td>\n",
       "      <td>NaN</td>\n",
       "      <td>NaN</td>\n",
       "    </tr>\n",
       "    <tr>\n",
       "      <td>min</td>\n",
       "      <td>8.660923e+08</td>\n",
       "      <td>8.660923e+08</td>\n",
       "      <td>1.216819e+12</td>\n",
       "      <td>3.160000e+03</td>\n",
       "      <td>0.000000</td>\n",
       "      <td>0.000000</td>\n",
       "      <td>0.000000</td>\n",
       "      <td>0.000000</td>\n",
       "      <td>NaN</td>\n",
       "      <td>NaN</td>\n",
       "      <td>NaN</td>\n",
       "      <td>NaN</td>\n",
       "      <td>NaN</td>\n",
       "      <td>NaN</td>\n",
       "      <td>NaN</td>\n",
       "      <td>NaN</td>\n",
       "      <td>NaN</td>\n",
       "      <td>NaN</td>\n",
       "    </tr>\n",
       "    <tr>\n",
       "      <td>25%</td>\n",
       "      <td>1.243007e+18</td>\n",
       "      <td>1.242870e+18</td>\n",
       "      <td>1.585191e+12</td>\n",
       "      <td>2.617597e+08</td>\n",
       "      <td>0.000000</td>\n",
       "      <td>0.000000</td>\n",
       "      <td>0.000000</td>\n",
       "      <td>0.000000</td>\n",
       "      <td>NaN</td>\n",
       "      <td>NaN</td>\n",
       "      <td>NaN</td>\n",
       "      <td>NaN</td>\n",
       "      <td>NaN</td>\n",
       "      <td>NaN</td>\n",
       "      <td>NaN</td>\n",
       "      <td>NaN</td>\n",
       "      <td>NaN</td>\n",
       "      <td>NaN</td>\n",
       "    </tr>\n",
       "    <tr>\n",
       "      <td>50%</td>\n",
       "      <td>1.247014e+18</td>\n",
       "      <td>1.246851e+18</td>\n",
       "      <td>1.586146e+12</td>\n",
       "      <td>2.940158e+09</td>\n",
       "      <td>0.000000</td>\n",
       "      <td>0.000000</td>\n",
       "      <td>1.000000</td>\n",
       "      <td>0.000000</td>\n",
       "      <td>NaN</td>\n",
       "      <td>NaN</td>\n",
       "      <td>NaN</td>\n",
       "      <td>NaN</td>\n",
       "      <td>NaN</td>\n",
       "      <td>NaN</td>\n",
       "      <td>NaN</td>\n",
       "      <td>NaN</td>\n",
       "      <td>NaN</td>\n",
       "      <td>NaN</td>\n",
       "    </tr>\n",
       "    <tr>\n",
       "      <td>75%</td>\n",
       "      <td>1.256459e+18</td>\n",
       "      <td>1.256427e+18</td>\n",
       "      <td>1.588398e+12</td>\n",
       "      <td>9.912536e+17</td>\n",
       "      <td>0.000000</td>\n",
       "      <td>0.000000</td>\n",
       "      <td>2.000000</td>\n",
       "      <td>0.000000</td>\n",
       "      <td>NaN</td>\n",
       "      <td>NaN</td>\n",
       "      <td>NaN</td>\n",
       "      <td>NaN</td>\n",
       "      <td>NaN</td>\n",
       "      <td>NaN</td>\n",
       "      <td>NaN</td>\n",
       "      <td>NaN</td>\n",
       "      <td>NaN</td>\n",
       "      <td>NaN</td>\n",
       "    </tr>\n",
       "    <tr>\n",
       "      <td>max</td>\n",
       "      <td>1.263035e+18</td>\n",
       "      <td>1.263035e+18</td>\n",
       "      <td>1.589966e+12</td>\n",
       "      <td>1.262808e+18</td>\n",
       "      <td>2044.000000</td>\n",
       "      <td>3710.000000</td>\n",
       "      <td>19929.000000</td>\n",
       "      <td>1.000000</td>\n",
       "      <td>NaN</td>\n",
       "      <td>NaN</td>\n",
       "      <td>NaN</td>\n",
       "      <td>NaN</td>\n",
       "      <td>NaN</td>\n",
       "      <td>NaN</td>\n",
       "      <td>NaN</td>\n",
       "      <td>NaN</td>\n",
       "      <td>NaN</td>\n",
       "      <td>NaN</td>\n",
       "    </tr>\n",
       "  </tbody>\n",
       "</table>\n",
       "</div>"
      ],
      "text/plain": [
       "                 id  conversation_id    created_at       user_id  \\\n",
       "count  1.243840e+05     1.243840e+05  1.243840e+05  1.243840e+05   \n",
       "mean   1.248684e+18     1.248494e+18  1.586544e+12  4.351165e+17   \n",
       "std    2.229079e+16     2.304835e+16  5.369331e+09  5.240636e+17   \n",
       "min    8.660923e+08     8.660923e+08  1.216819e+12  3.160000e+03   \n",
       "25%    1.243007e+18     1.242870e+18  1.585191e+12  2.617597e+08   \n",
       "50%    1.247014e+18     1.246851e+18  1.586146e+12  2.940158e+09   \n",
       "75%    1.256459e+18     1.256427e+18  1.588398e+12  9.912536e+17   \n",
       "max    1.263035e+18     1.263035e+18  1.589966e+12  1.262808e+18   \n",
       "\n",
       "       replies_count  retweets_count    likes_count          video  near  geo  \\\n",
       "count  124384.000000   124384.000000  124384.000000  124384.000000   0.0  0.0   \n",
       "mean        0.667626        2.077044       7.881858       0.061953   NaN  NaN   \n",
       "std        11.845734       28.424693     121.299772       0.241072   NaN  NaN   \n",
       "min         0.000000        0.000000       0.000000       0.000000   NaN  NaN   \n",
       "25%         0.000000        0.000000       0.000000       0.000000   NaN  NaN   \n",
       "50%         0.000000        0.000000       1.000000       0.000000   NaN  NaN   \n",
       "75%         0.000000        0.000000       2.000000       0.000000   NaN  NaN   \n",
       "max      2044.000000     3710.000000   19929.000000       1.000000   NaN  NaN   \n",
       "\n",
       "       source  user_rt_id  user_rt  retweet_id  retweet_date  translate  \\\n",
       "count     0.0         0.0      0.0         0.0           0.0        0.0   \n",
       "mean      NaN         NaN      NaN         NaN           NaN        NaN   \n",
       "std       NaN         NaN      NaN         NaN           NaN        NaN   \n",
       "min       NaN         NaN      NaN         NaN           NaN        NaN   \n",
       "25%       NaN         NaN      NaN         NaN           NaN        NaN   \n",
       "50%       NaN         NaN      NaN         NaN           NaN        NaN   \n",
       "75%       NaN         NaN      NaN         NaN           NaN        NaN   \n",
       "max       NaN         NaN      NaN         NaN           NaN        NaN   \n",
       "\n",
       "       trans_src  trans_dest  \n",
       "count        0.0         0.0  \n",
       "mean         NaN         NaN  \n",
       "std          NaN         NaN  \n",
       "min          NaN         NaN  \n",
       "25%          NaN         NaN  \n",
       "50%          NaN         NaN  \n",
       "75%          NaN         NaN  \n",
       "max          NaN         NaN  "
      ]
     },
     "execution_count": 4,
     "metadata": {},
     "output_type": "execute_result"
    }
   ],
   "source": [
    "# Inspecting the data\n",
    "\n",
    "data.info()\n",
    "data.describe()"
   ]
  },
  {
   "cell_type": "markdown",
   "metadata": {},
   "source": [
    "We can see that most of the columns in the dataset are empty, so dropping these columns is better."
   ]
  },
  {
   "cell_type": "markdown",
   "metadata": {
    "colab_type": "text",
    "id": "mWheCNC66JeI"
   },
   "source": [
    "## Dealing with Missing values"
   ]
  },
  {
   "cell_type": "code",
   "execution_count": 5,
   "metadata": {
    "colab": {
     "base_uri": "https://localhost:8080/",
     "height": 86
    },
    "colab_type": "code",
    "id": "onuoGHXk6JeK",
    "outputId": "f0343ac2-c1bc-45fc-ddbb-48bd1e87024e"
   },
   "outputs": [
    {
     "name": "stdout",
     "output_type": "stream",
     "text": [
      "Columns which contains missing values: \n"
     ]
    },
    {
     "data": {
      "text/plain": [
       "Index(['place', 'quote_url', 'near', 'geo', 'source', 'user_rt_id', 'user_rt',\n",
       "       'retweet_id', 'retweet_date', 'translate', 'trans_src', 'trans_dest'],\n",
       "      dtype='object')"
      ]
     },
     "execution_count": 5,
     "metadata": {},
     "output_type": "execute_result"
    }
   ],
   "source": [
    "nan_cols = data.columns[data.isna().any()]\n",
    "print(\"Columns which contains missing values: \")\n",
    "nan_cols"
   ]
  },
  {
   "cell_type": "code",
   "execution_count": 6,
   "metadata": {
    "colab": {
     "base_uri": "https://localhost:8080/",
     "height": 260
    },
    "colab_type": "code",
    "id": "2uCLKTL76JeS",
    "outputId": "89e80967-1cf5-490e-d2a6-9d649ea1147b"
   },
   "outputs": [
    {
     "name": "stdout",
     "output_type": "stream",
     "text": [
      "Percentage of Missing values in the columns: \n"
     ]
    },
    {
     "data": {
      "text/plain": [
       "place           0.926494\n",
       "quote_url       0.895220\n",
       "near            1.000000\n",
       "geo             1.000000\n",
       "source          1.000000\n",
       "user_rt_id      1.000000\n",
       "user_rt         1.000000\n",
       "retweet_id      1.000000\n",
       "retweet_date    1.000000\n",
       "translate       1.000000\n",
       "trans_src       1.000000\n",
       "trans_dest      1.000000\n",
       "dtype: float64"
      ]
     },
     "execution_count": 6,
     "metadata": {},
     "output_type": "execute_result"
    }
   ],
   "source": [
    "print(\"Percentage of Missing values in the columns: \")\n",
    "(data[nan_cols].isna().sum()) / len(data)"
   ]
  },
  {
   "cell_type": "code",
   "execution_count": 7,
   "metadata": {
    "colab": {},
    "colab_type": "code",
    "id": "rRrK36gP6Jea"
   },
   "outputs": [],
   "source": [
    "# Dropping all the columns which consists of missing values\n",
    "\n",
    "data.drop(nan_cols, axis=1, inplace=True)"
   ]
  },
  {
   "cell_type": "code",
   "execution_count": 8,
   "metadata": {
    "colab": {
     "base_uri": "https://localhost:8080/",
     "height": 104
    },
    "colab_type": "code",
    "id": "VHfhjXz46Jei",
    "outputId": "3761a959-2de8-45dc-cbb0-73aa1bb312f9"
   },
   "outputs": [
    {
     "name": "stdout",
     "output_type": "stream",
     "text": [
      "Index(['id', 'conversation_id', 'created_at', 'date', 'time', 'timezone',\n",
      "       'user_id', 'username', 'name', 'tweet', 'mentions', 'urls', 'photos',\n",
      "       'replies_count', 'retweets_count', 'likes_count', 'hashtags',\n",
      "       'cashtags', 'link', 'retweet', 'video', 'reply_to'],\n",
      "      dtype='object')\n"
     ]
    }
   ],
   "source": [
    "print(data.columns)"
   ]
  },
  {
   "cell_type": "markdown",
   "metadata": {
    "colab_type": "text",
    "id": "4hslFNGX6Jen"
   },
   "source": [
    "By careful inspection, we can observe that all the columns except 'tweet' and 'hashtags' are redundant and can be dropped."
   ]
  },
  {
   "cell_type": "code",
   "execution_count": 9,
   "metadata": {
    "colab": {
     "base_uri": "https://localhost:8080/",
     "height": 424
    },
    "colab_type": "code",
    "id": "ZLHbtgjm6Jep",
    "outputId": "eff97d57-6276-4aad-8a49-fe06a05312c3",
    "scrolled": true
   },
   "outputs": [
    {
     "data": {
      "text/html": [
       "<div>\n",
       "<style scoped>\n",
       "    .dataframe tbody tr th:only-of-type {\n",
       "        vertical-align: middle;\n",
       "    }\n",
       "\n",
       "    .dataframe tbody tr th {\n",
       "        vertical-align: top;\n",
       "    }\n",
       "\n",
       "    .dataframe thead th {\n",
       "        text-align: right;\n",
       "    }\n",
       "</style>\n",
       "<table border=\"1\" class=\"dataframe\">\n",
       "  <thead>\n",
       "    <tr style=\"text-align: right;\">\n",
       "      <th></th>\n",
       "      <th>tweet</th>\n",
       "      <th>hashtags</th>\n",
       "    </tr>\n",
       "  </thead>\n",
       "  <tbody>\n",
       "    <tr>\n",
       "      <td>0</td>\n",
       "      <td>https://www.youtube.com/watch?v=-CRbO7ExO1k …...</td>\n",
       "      <td>['#lockdownindia', '#lockdown', '#indiafightsc...</td>\n",
       "    </tr>\n",
       "    <tr>\n",
       "      <td>1</td>\n",
       "      <td>Lockdown 4.0 ka.naam hi lockdown hai\\nHai sab ...</td>\n",
       "      <td>['#lockdownindia', '#locldown4']</td>\n",
       "    </tr>\n",
       "    <tr>\n",
       "      <td>2</td>\n",
       "      <td>CORONA VIRUS THREAT-\\nHOW TO OVERCOME STRESS A...</td>\n",
       "      <td>['#covid_19', '#covid_19sa', '#covid_19india',...</td>\n",
       "    </tr>\n",
       "    <tr>\n",
       "      <td>3</td>\n",
       "      <td>Could you please\\n\\n#lockdownindia\\n@Bhuvan_Ba...</td>\n",
       "      <td>['#lockdownindia', '#roastchallenge', '#journa...</td>\n",
       "    </tr>\n",
       "    <tr>\n",
       "      <td>4</td>\n",
       "      <td>In fight with #COVID19, You are the best Docto...</td>\n",
       "      <td>['#covid19', '#coronavirus', '#patiencechallen...</td>\n",
       "    </tr>\n",
       "    <tr>\n",
       "      <td>...</td>\n",
       "      <td>...</td>\n",
       "      <td>...</td>\n",
       "    </tr>\n",
       "    <tr>\n",
       "      <td>124379</td>\n",
       "      <td>I pledge to follow the appeal given by Hon'ble...</td>\n",
       "      <td>['#staysafestayhome', '#janta_curfew', '#janta...</td>\n",
       "    </tr>\n",
       "    <tr>\n",
       "      <td>124380</td>\n",
       "      <td>Four new cases of Coronavirus detected in Luck...</td>\n",
       "      <td>['#coronaindia', '#coronavirusoutbreakindia', ...</td>\n",
       "    </tr>\n",
       "    <tr>\n",
       "      <td>124381</td>\n",
       "      <td>Do you sometimes feel a tingling #sensation or...</td>\n",
       "      <td>['#sensation', '#hands', '#thevoiceofwoman', '...</td>\n",
       "    </tr>\n",
       "    <tr>\n",
       "      <td>124382</td>\n",
       "      <td>Some Time we have to Stay Back ... Just to Sav...</td>\n",
       "      <td>['#stayback', '#gobackcorona', '#coronafighter...</td>\n",
       "    </tr>\n",
       "    <tr>\n",
       "      <td>124383</td>\n",
       "      <td>Sir, National Medical Emergency should declare...</td>\n",
       "      <td>['#coronaindia', '#coronavirusupdate', '#wewil...</td>\n",
       "    </tr>\n",
       "  </tbody>\n",
       "</table>\n",
       "<p>124384 rows × 2 columns</p>\n",
       "</div>"
      ],
      "text/plain": [
       "                                                    tweet  \\\n",
       "0        https://www.youtube.com/watch?v=-CRbO7ExO1k …...   \n",
       "1       Lockdown 4.0 ka.naam hi lockdown hai\\nHai sab ...   \n",
       "2       CORONA VIRUS THREAT-\\nHOW TO OVERCOME STRESS A...   \n",
       "3       Could you please\\n\\n#lockdownindia\\n@Bhuvan_Ba...   \n",
       "4       In fight with #COVID19, You are the best Docto...   \n",
       "...                                                   ...   \n",
       "124379  I pledge to follow the appeal given by Hon'ble...   \n",
       "124380  Four new cases of Coronavirus detected in Luck...   \n",
       "124381  Do you sometimes feel a tingling #sensation or...   \n",
       "124382  Some Time we have to Stay Back ... Just to Sav...   \n",
       "124383  Sir, National Medical Emergency should declare...   \n",
       "\n",
       "                                                 hashtags  \n",
       "0       ['#lockdownindia', '#lockdown', '#indiafightsc...  \n",
       "1                        ['#lockdownindia', '#locldown4']  \n",
       "2       ['#covid_19', '#covid_19sa', '#covid_19india',...  \n",
       "3       ['#lockdownindia', '#roastchallenge', '#journa...  \n",
       "4       ['#covid19', '#coronavirus', '#patiencechallen...  \n",
       "...                                                   ...  \n",
       "124379  ['#staysafestayhome', '#janta_curfew', '#janta...  \n",
       "124380  ['#coronaindia', '#coronavirusoutbreakindia', ...  \n",
       "124381  ['#sensation', '#hands', '#thevoiceofwoman', '...  \n",
       "124382  ['#stayback', '#gobackcorona', '#coronafighter...  \n",
       "124383  ['#coronaindia', '#coronavirusupdate', '#wewil...  \n",
       "\n",
       "[124384 rows x 2 columns]"
      ]
     },
     "execution_count": 9,
     "metadata": {},
     "output_type": "execute_result"
    }
   ],
   "source": [
    "actual_data = data[['tweet', 'hashtags']]\n",
    "actual_data"
   ]
  },
  {
   "cell_type": "markdown",
   "metadata": {
    "colab_type": "text",
    "id": "M-G8hlEM6Jex"
   },
   "source": [
    "## Preprocessing data"
   ]
  },
  {
   "cell_type": "markdown",
   "metadata": {},
   "source": [
    "In this, preprocessing step I have removed all the unneccessary information using the regular expression(re) modules like:\n",
    "\n",
    "```python\n",
    "re.sub(r'(#\\w+)', ' ', x) # to remove all the hashtags in the text.\n",
    "```\n",
    "```python\n",
    "re.sub(r'(\\n)', ' ', x) # to remove all the newline characters in the text.\n",
    "```\n",
    "```python\n",
    "re.sub(r'(@\\w+)', ' ', x) # to remove all the handles in the text.\n",
    "```\n",
    "```python\n",
    "re.sub(r'(…)', ' ', x) # to remove '…' from the text.\n",
    "```\n",
    "```python\n",
    "re.sub(r'(pic.twitter.com/\\w+)', ' ', x) # to remove all pic URLS in the text.\n",
    "```\n",
    "```python\n",
    "re.sub(r'([^a-zA-Z0-9])\\1+', r'\\1', x) # to remove all repeating characters except alphabets and numbers.\n",
    "```\n",
    "```python\n",
    "re.sub(r'(http|https|ftp)://[a-zA-Z0-9\\\\.\\?\\-\\=/]+\\xa0', ' ', x) # to remove all URLS in the text.\n",
    "```"
   ]
  },
  {
   "cell_type": "code",
   "execution_count": 10,
   "metadata": {
    "colab": {},
    "colab_type": "code",
    "id": "pDUp9E776Jex"
   },
   "outputs": [
    {
     "name": "stderr",
     "output_type": "stream",
     "text": [
      "/usr/local/lib/python3.6/dist-packages/ipykernel_launcher.py:3: SettingWithCopyWarning: \n",
      "A value is trying to be set on a copy of a slice from a DataFrame.\n",
      "Try using .loc[row_indexer,col_indexer] = value instead\n",
      "\n",
      "See the caveats in the documentation: http://pandas.pydata.org/pandas-docs/stable/user_guide/indexing.html#returning-a-view-versus-a-copy\n",
      "  This is separate from the ipykernel package so we can avoid doing imports until\n",
      "/usr/local/lib/python3.6/dist-packages/ipykernel_launcher.py:4: SettingWithCopyWarning: \n",
      "A value is trying to be set on a copy of a slice from a DataFrame.\n",
      "Try using .loc[row_indexer,col_indexer] = value instead\n",
      "\n",
      "See the caveats in the documentation: http://pandas.pydata.org/pandas-docs/stable/user_guide/indexing.html#returning-a-view-versus-a-copy\n",
      "  after removing the cwd from sys.path.\n",
      "/usr/local/lib/python3.6/dist-packages/ipykernel_launcher.py:5: SettingWithCopyWarning: \n",
      "A value is trying to be set on a copy of a slice from a DataFrame.\n",
      "Try using .loc[row_indexer,col_indexer] = value instead\n",
      "\n",
      "See the caveats in the documentation: http://pandas.pydata.org/pandas-docs/stable/user_guide/indexing.html#returning-a-view-versus-a-copy\n",
      "  \"\"\"\n",
      "/usr/local/lib/python3.6/dist-packages/ipykernel_launcher.py:6: SettingWithCopyWarning: \n",
      "A value is trying to be set on a copy of a slice from a DataFrame.\n",
      "Try using .loc[row_indexer,col_indexer] = value instead\n",
      "\n",
      "See the caveats in the documentation: http://pandas.pydata.org/pandas-docs/stable/user_guide/indexing.html#returning-a-view-versus-a-copy\n",
      "  \n",
      "/usr/local/lib/python3.6/dist-packages/ipykernel_launcher.py:7: SettingWithCopyWarning: \n",
      "A value is trying to be set on a copy of a slice from a DataFrame.\n",
      "Try using .loc[row_indexer,col_indexer] = value instead\n",
      "\n",
      "See the caveats in the documentation: http://pandas.pydata.org/pandas-docs/stable/user_guide/indexing.html#returning-a-view-versus-a-copy\n",
      "  import sys\n",
      "/usr/local/lib/python3.6/dist-packages/ipykernel_launcher.py:8: SettingWithCopyWarning: \n",
      "A value is trying to be set on a copy of a slice from a DataFrame.\n",
      "Try using .loc[row_indexer,col_indexer] = value instead\n",
      "\n",
      "See the caveats in the documentation: http://pandas.pydata.org/pandas-docs/stable/user_guide/indexing.html#returning-a-view-versus-a-copy\n",
      "  \n",
      "/usr/local/lib/python3.6/dist-packages/ipykernel_launcher.py:9: SettingWithCopyWarning: \n",
      "A value is trying to be set on a copy of a slice from a DataFrame.\n",
      "Try using .loc[row_indexer,col_indexer] = value instead\n",
      "\n",
      "See the caveats in the documentation: http://pandas.pydata.org/pandas-docs/stable/user_guide/indexing.html#returning-a-view-versus-a-copy\n",
      "  if __name__ == '__main__':\n"
     ]
    }
   ],
   "source": [
    "# Removing all the unwanted information from of data\n",
    "\n",
    "actual_data['tweet'] = actual_data['tweet'].apply(lambda x: re.sub(r'#\\w+', ' ', x))                                                                \n",
    "actual_data['tweet'] = actual_data['tweet'].apply(lambda x: re.sub(r'\\n', ' ', x))                                                                  \n",
    "actual_data['tweet'] = actual_data['tweet'].apply(lambda x: re.sub(r'pic.twitter.com/\\w+', ' ', x))                                                            \n",
    "actual_data['tweet'] = actual_data['tweet'].apply(lambda x: re.sub(r'@\\w+', ' ', x))\n",
    "actual_data['tweet'] = actual_data['tweet'].apply(lambda x: re.sub(r'(http|https|ftp)://[a-zA-Z0-9\\\\.\\?\\-\\=/]+\\xa0', ' ', x))\n",
    "actual_data['tweet'] = actual_data['tweet'].apply(lambda x: re.sub(r'…', ' ', x))                                                          \n",
    "actual_data['tweet'] = actual_data['tweet'].apply(lambda x: re.sub(r'([^a-zA-Z0-9])\\1+', r'\\1', x))"
   ]
  },
  {
   "cell_type": "markdown",
   "metadata": {},
   "source": [
    "data1, data2, data3 all are the copies of the actual_data dataframe's\n",
    "\n",
    "* data1 is used in sentiment prediction using textblob.\n",
    "\n",
    "* data2 is used in sentiment prediction using vaderSentiment.\n",
    "\n",
    "* data3 is used in sentiment prediction using machine learning method."
   ]
  },
  {
   "cell_type": "code",
   "execution_count": 11,
   "metadata": {
    "colab": {},
    "colab_type": "code",
    "id": "ejh-MGkK6JfP"
   },
   "outputs": [],
   "source": [
    "# Making a copy of original dataset to be used for different strategy\n",
    "\n",
    "data1 = actual_data.copy()\n",
    "data2 = actual_data.copy()\n",
    "data3 = actual_data.copy()"
   ]
  },
  {
   "cell_type": "markdown",
   "metadata": {
    "colab_type": "text",
    "id": "S98NJumi6JfV"
   },
   "source": [
    "## Lexicon based sentiment analysis"
   ]
  },
  {
   "cell_type": "markdown",
   "metadata": {
    "colab_type": "text",
    "id": "CcMyvMfc6JfX"
   },
   "source": [
    "### TextBlob\n",
    "This sentiment analysis is done using TextBlob function of the module textblob.\n",
    "\n",
    "The output of the function is a 2-element tuple which has a structure (polarity_value, subjectivity)."
   ]
  },
  {
   "cell_type": "code",
   "execution_count": 12,
   "metadata": {
    "colab": {},
    "colab_type": "code",
    "id": "81whw5S96JfY"
   },
   "outputs": [],
   "source": [
    "data1['sentiment'] = data1['tweet'].apply(lambda x: TextBlob(x).sentiment)"
   ]
  },
  {
   "cell_type": "code",
   "execution_count": 13,
   "metadata": {
    "colab": {},
    "colab_type": "code",
    "id": "D_0vpZKW6Jfc"
   },
   "outputs": [],
   "source": [
    "data1['polarity_value'] = data1['sentiment'].apply(lambda x: x[0])\n",
    "data1['subjectivity'] = data1['sentiment'].apply(lambda x: x[1])"
   ]
  },
  {
   "cell_type": "code",
   "execution_count": 14,
   "metadata": {
    "colab": {},
    "colab_type": "code",
    "id": "dQ1YOo_h6Jfh"
   },
   "outputs": [],
   "source": [
    "data1['polarity_type'] = np.where(data1['polarity_value'].values > 0, 'Positive', np.where(data1['polarity_value'].values < 0, 'Negative', 'Neutral'))"
   ]
  },
  {
   "cell_type": "code",
   "execution_count": 15,
   "metadata": {
    "colab": {
     "base_uri": "https://localhost:8080/",
     "height": 0
    },
    "colab_type": "code",
    "id": "2_Ww2SKp6Jfl",
    "outputId": "a33b2972-6e71-4e22-fed6-a2f77f85b326"
   },
   "outputs": [
    {
     "data": {
      "text/plain": [
       "Positive    54165\n",
       "Neutral     47780\n",
       "Negative    22439\n",
       "Name: polarity_type, dtype: int64"
      ]
     },
     "execution_count": 15,
     "metadata": {},
     "output_type": "execute_result"
    }
   ],
   "source": [
    "# Count of each type of tweets\n",
    "\n",
    "data1['polarity_type'].value_counts()"
   ]
  },
  {
   "cell_type": "markdown",
   "metadata": {
    "colab_type": "text",
    "id": "UZ8g49Us6Jfq"
   },
   "source": [
    "#### Visualization of data"
   ]
  },
  {
   "cell_type": "markdown",
   "metadata": {},
   "source": [
    "First plot, contains the Number of tweets for each type of tweets.\n",
    "\n",
    "Second plot, contains the distribution of sentiment of all the tweets on the scale of \\[-1, 1\\](-1 being most negative, 1 being most positive)."
   ]
  },
  {
   "cell_type": "code",
   "execution_count": 16,
   "metadata": {
    "colab": {
     "base_uri": "https://localhost:8080/",
     "height": 0
    },
    "colab_type": "code",
    "id": "bO8YgG3J6Jfr",
    "outputId": "2d316947-ee37-4465-a287-8e863435b709"
   },
   "outputs": [
    {
     "data": {
      "text/plain": [
       "<BarContainer object of 3 artists>"
      ]
     },
     "execution_count": 16,
     "metadata": {},
     "output_type": "execute_result"
    },
    {
     "data": {
      "image/png": "[encoded data removed]",
      "text/plain": [
       "<Figure size 864x504 with 1 Axes>"
      ]
     },
     "metadata": {
      "needs_background": "light"
     },
     "output_type": "display_data"
    }
   ],
   "source": [
    "# Polarity count\n",
    "\n",
    "_, ax = plt.subplots()\n",
    "ax.set_title(\"Value Counts\", fontsize=20)\n",
    "ax.set_xlabel(\"Polarity Type\", fontsize=15)\n",
    "ax.set_ylabel(\"Count\", fontsize=15)\n",
    "ax.bar(data1['polarity_type'].unique(), height=data1['polarity_type'].value_counts())"
   ]
  },
  {
   "cell_type": "code",
   "execution_count": 17,
   "metadata": {
    "colab": {
     "base_uri": "https://localhost:8080/",
     "height": 0
    },
    "colab_type": "code",
    "id": "C0TiZ0db6Jfx",
    "outputId": "2cb161e5-3fea-455c-c63e-8c347ab9dbaf"
   },
   "outputs": [
    {
     "data": {
      "text/plain": [
       "(array([3.2400e+02, 5.0000e+01, 2.7300e+02, 3.4700e+02, 4.8100e+02,\n",
       "        2.1510e+03, 1.8610e+03, 3.3110e+03, 6.7980e+03, 6.8430e+03,\n",
       "        5.9218e+04, 1.3030e+04, 8.6690e+03, 6.9420e+03, 2.3010e+03,\n",
       "        7.0940e+03, 1.8880e+03, 4.6600e+02, 1.2830e+03, 1.0540e+03]),\n",
       " array([-1. , -0.9, -0.8, -0.7, -0.6, -0.5, -0.4, -0.3, -0.2, -0.1,  0. ,\n",
       "         0.1,  0.2,  0.3,  0.4,  0.5,  0.6,  0.7,  0.8,  0.9,  1. ]),\n",
       " <a list of 20 Patch objects>)"
      ]
     },
     "execution_count": 17,
     "metadata": {},
     "output_type": "execute_result"
    },
    {
     "data": {
      "image/png": "[encoded data removed]",
      "text/plain": [
       "<Figure size 864x504 with 1 Axes>"
      ]
     },
     "metadata": {
      "needs_background": "light"
     },
     "output_type": "display_data"
    }
   ],
   "source": [
    "# Distribution of the polarity value\n",
    "\n",
    "_, ax = plt.subplots()\n",
    "ax.set_title(\"Distribution of polarity\", fontsize=20)\n",
    "ax.set_xlabel(\"Range [-1, 1]\", fontsize=15)\n",
    "ax.set_ylabel(\"No. of tweets\", fontsize=15)\n",
    "\n",
    "ax.hist(data1['polarity_value'], bins=20)"
   ]
  },
  {
   "cell_type": "markdown",
   "metadata": {
    "colab_type": "text",
    "id": "eklUPcip6Jf2"
   },
   "source": [
    "### VaderSentiment\n",
    "This sentiment analysis is done using VaderSentiment module.\n",
    "\n",
    "The output of the function is a dictionary which contains four keys 'positive', 'negative', 'neutral', 'compound'\n",
    "\n",
    "compound gives the overall sentiment of the tweet.\n",
    "\n",
    "positive says how much positive is the given tweet.\n",
    "\n",
    "negative says how much negative is the given tweet.\n",
    "\n",
    "neutral says how much neutral is the given tweet."
   ]
  },
  {
   "cell_type": "code",
   "execution_count": 18,
   "metadata": {
    "colab": {},
    "colab_type": "code",
    "id": "IQjKFXhw6Jf3"
   },
   "outputs": [],
   "source": [
    "analyzer = SentimentIntensityAnalyzer()\n",
    "\n",
    "data2['sentiment'] = data2['tweet'].apply(lambda x: analyzer.polarity_scores(x))"
   ]
  },
  {
   "cell_type": "code",
   "execution_count": 19,
   "metadata": {
    "colab": {},
    "colab_type": "code",
    "id": "Hh_gW0Wj6Jf9"
   },
   "outputs": [],
   "source": [
    "data2['positive'] = data2['sentiment'].apply(lambda x: x['pos'])\n",
    "data2['negative'] = data2['sentiment'].apply(lambda x: x['neg'])\n",
    "data2['neutral'] = data2['sentiment'].apply(lambda x: x['neu'])\n",
    "\n",
    "data2['polarity_value'] = data2['sentiment'].apply(lambda x: x['compound'])"
   ]
  },
  {
   "cell_type": "code",
   "execution_count": 20,
   "metadata": {
    "colab": {},
    "colab_type": "code",
    "id": "ysdrWbSs6JgB"
   },
   "outputs": [],
   "source": [
    "data2['polarity_type'] = np.where(data2['polarity_value'].values > 0.05, 'Positive', np.where(data2['polarity_value'].values < -0.05, 'Negative', 'Neutral'))"
   ]
  },
  {
   "cell_type": "code",
   "execution_count": 21,
   "metadata": {
    "colab": {
     "base_uri": "https://localhost:8080/",
     "height": 0
    },
    "colab_type": "code",
    "id": "KJaUaPro6JgG",
    "outputId": "1e55df82-e5b7-49cd-fc9b-9abc07179eb6"
   },
   "outputs": [
    {
     "data": {
      "text/plain": [
       "Positive    59641\n",
       "Neutral     34188\n",
       "Negative    30555\n",
       "Name: polarity_type, dtype: int64"
      ]
     },
     "execution_count": 21,
     "metadata": {},
     "output_type": "execute_result"
    }
   ],
   "source": [
    "# Count of each type of tweets\n",
    "\n",
    "data2['polarity_type'].value_counts()"
   ]
  },
  {
   "cell_type": "markdown",
   "metadata": {
    "colab_type": "text",
    "id": "mJ2Z3nx76JgL"
   },
   "source": [
    "#### Visulization of data"
   ]
  },
  {
   "cell_type": "markdown",
   "metadata": {},
   "source": [
    "First plot, contains the Number of tweets for each type of tweets.\n",
    "\n",
    "Second plot, contains the degree of degree of polarity of each polarity type."
   ]
  },
  {
   "cell_type": "code",
   "execution_count": 22,
   "metadata": {
    "colab": {
     "base_uri": "https://localhost:8080/",
     "height": 0
    },
    "colab_type": "code",
    "id": "7Eq7F6Mn6JgL",
    "outputId": "9684aa0f-802f-4d03-a0de-7bb1ec08530a"
   },
   "outputs": [
    {
     "data": {
      "text/plain": [
       "<BarContainer object of 3 artists>"
      ]
     },
     "execution_count": 22,
     "metadata": {},
     "output_type": "execute_result"
    },
    {
     "data": {
      "image/png": "[encoded data removed]",
      "text/plain": [
       "<Figure size 864x504 with 1 Axes>"
      ]
     },
     "metadata": {
      "needs_background": "light"
     },
     "output_type": "display_data"
    }
   ],
   "source": [
    "# Polarity count\n",
    "\n",
    "_, ax = plt.subplots()\n",
    "ax.set_title(\"Value Counts\", fontsize=20)\n",
    "ax.set_xlabel(\"Polarity Type\", fontsize=15)\n",
    "ax.set_ylabel(\"Count\", fontsize=15)\n",
    "ax.bar(data2['polarity_type'].unique(), height=data2['polarity_type'].value_counts())"
   ]
  },
  {
   "cell_type": "code",
   "execution_count": 23,
   "metadata": {
    "colab": {
     "base_uri": "https://localhost:8080/",
     "height": 0
    },
    "colab_type": "code",
    "id": "_2BBWRZz6JgQ",
    "outputId": "114263f5-ceb3-4b92-a27e-b594dabd60ef"
   },
   "outputs": [
    {
     "data": {
      "text/plain": [
       "(array([  228.,   184.,   712.,  1327.,  3573.,  8682., 16542., 25040.,\n",
       "        27808., 40288.]),\n",
       " array([0. , 0.1, 0.2, 0.3, 0.4, 0.5, 0.6, 0.7, 0.8, 0.9, 1. ]),\n",
       " <a list of 10 Patch objects>)"
      ]
     },
     "execution_count": 23,
     "metadata": {},
     "output_type": "execute_result"
    },
    {
     "data": {
      "image/png": "[encoded data removed]",
      "text/plain": [
       "<Figure size 864x504 with 3 Axes>"
      ]
     },
     "metadata": {
      "needs_background": "light"
     },
     "output_type": "display_data"
    }
   ],
   "source": [
    "# Degree of polarity\n",
    "\n",
    "fig, ax = plt.subplots(nrows=1, ncols=3)\n",
    "fig.suptitle(\"Degree of polarity\", fontsize=20)\n",
    "ax[0].set_xlabel(\"Positive\", fontsize=15)\n",
    "ax[1].set_xlabel(\"Negative\", fontsize=15)\n",
    "ax[2].set_xlabel(\"Neutral\", fontsize=15)\n",
    "ax[0].set_ylabel(\"Count\", fontsize=15)\n",
    "\n",
    "ax[0].hist(data2['positive'])\n",
    "ax[1].hist(data2['negative'])\n",
    "ax[2].hist(data2['neutral'])"
   ]
  },
  {
   "cell_type": "markdown",
   "metadata": {
    "colab_type": "text",
    "id": "FS_azs4g6JgU"
   },
   "source": [
    "## Machine Learning based Sentiment Analysis"
   ]
  },
  {
   "cell_type": "markdown",
   "metadata": {},
   "source": [
    "Using the imdb dataset to train and build the neural network, after that apply the neural network on the tweets data given."
   ]
  },
  {
   "cell_type": "code",
   "execution_count": 24,
   "metadata": {
    "colab": {
     "base_uri": "https://localhost:8080/",
     "height": 206
    },
    "colab_type": "code",
    "id": "vz-dQ8iN6JgV",
    "outputId": "015b5e78-d33c-4239-83d4-55b8bbe24c2a"
   },
   "outputs": [
    {
     "data": {
      "text/html": [
       "<div>\n",
       "<style scoped>\n",
       "    .dataframe tbody tr th:only-of-type {\n",
       "        vertical-align: middle;\n",
       "    }\n",
       "\n",
       "    .dataframe tbody tr th {\n",
       "        vertical-align: top;\n",
       "    }\n",
       "\n",
       "    .dataframe thead th {\n",
       "        text-align: right;\n",
       "    }\n",
       "</style>\n",
       "<table border=\"1\" class=\"dataframe\">\n",
       "  <thead>\n",
       "    <tr style=\"text-align: right;\">\n",
       "      <th></th>\n",
       "      <th>review</th>\n",
       "      <th>sentiment</th>\n",
       "    </tr>\n",
       "  </thead>\n",
       "  <tbody>\n",
       "    <tr>\n",
       "      <td>0</td>\n",
       "      <td>One of the other reviewers has mentioned that ...</td>\n",
       "      <td>positive</td>\n",
       "    </tr>\n",
       "    <tr>\n",
       "      <td>1</td>\n",
       "      <td>A wonderful little production. &lt;br /&gt;&lt;br /&gt;The...</td>\n",
       "      <td>positive</td>\n",
       "    </tr>\n",
       "    <tr>\n",
       "      <td>2</td>\n",
       "      <td>I thought this was a wonderful way to spend ti...</td>\n",
       "      <td>positive</td>\n",
       "    </tr>\n",
       "    <tr>\n",
       "      <td>3</td>\n",
       "      <td>Basically there's a family where a little boy ...</td>\n",
       "      <td>negative</td>\n",
       "    </tr>\n",
       "    <tr>\n",
       "      <td>4</td>\n",
       "      <td>Petter Mattei's \"Love in the Time of Money\" is...</td>\n",
       "      <td>positive</td>\n",
       "    </tr>\n",
       "  </tbody>\n",
       "</table>\n",
       "</div>"
      ],
      "text/plain": [
       "                                              review sentiment\n",
       "0  One of the other reviewers has mentioned that ...  positive\n",
       "1  A wonderful little production. <br /><br />The...  positive\n",
       "2  I thought this was a wonderful way to spend ti...  positive\n",
       "3  Basically there's a family where a little boy ...  negative\n",
       "4  Petter Mattei's \"Love in the Time of Money\" is...  positive"
      ]
     },
     "execution_count": 24,
     "metadata": {},
     "output_type": "execute_result"
    }
   ],
   "source": [
    "# Loading the data\n",
    "\n",
    "imdb_data = pd.read_csv('./data/imdb_data.zip', compression='zip')\n",
    "imdb_data.head()"
   ]
  },
  {
   "cell_type": "code",
   "execution_count": 25,
   "metadata": {
    "colab": {
     "base_uri": "https://localhost:8080/",
     "height": 331
    },
    "colab_type": "code",
    "id": "_H3_KFXn6Jga",
    "outputId": "5dcebe80-2f21-4178-9762-f9f98a008c83"
   },
   "outputs": [
    {
     "name": "stdout",
     "output_type": "stream",
     "text": [
      "<class 'pandas.core.frame.DataFrame'>\n",
      "RangeIndex: 50000 entries, 0 to 49999\n",
      "Data columns (total 2 columns):\n",
      "review       50000 non-null object\n",
      "sentiment    50000 non-null object\n",
      "dtypes: object(2)\n",
      "memory usage: 781.4+ KB\n"
     ]
    },
    {
     "data": {
      "text/html": [
       "<div>\n",
       "<style scoped>\n",
       "    .dataframe tbody tr th:only-of-type {\n",
       "        vertical-align: middle;\n",
       "    }\n",
       "\n",
       "    .dataframe tbody tr th {\n",
       "        vertical-align: top;\n",
       "    }\n",
       "\n",
       "    .dataframe thead th {\n",
       "        text-align: right;\n",
       "    }\n",
       "</style>\n",
       "<table border=\"1\" class=\"dataframe\">\n",
       "  <thead>\n",
       "    <tr style=\"text-align: right;\">\n",
       "      <th></th>\n",
       "      <th>review</th>\n",
       "      <th>sentiment</th>\n",
       "    </tr>\n",
       "  </thead>\n",
       "  <tbody>\n",
       "    <tr>\n",
       "      <td>count</td>\n",
       "      <td>50000</td>\n",
       "      <td>50000</td>\n",
       "    </tr>\n",
       "    <tr>\n",
       "      <td>unique</td>\n",
       "      <td>49582</td>\n",
       "      <td>2</td>\n",
       "    </tr>\n",
       "    <tr>\n",
       "      <td>top</td>\n",
       "      <td>Loved today's show!!! It was a variety and not...</td>\n",
       "      <td>positive</td>\n",
       "    </tr>\n",
       "    <tr>\n",
       "      <td>freq</td>\n",
       "      <td>5</td>\n",
       "      <td>25000</td>\n",
       "    </tr>\n",
       "  </tbody>\n",
       "</table>\n",
       "</div>"
      ],
      "text/plain": [
       "                                                   review sentiment\n",
       "count                                               50000     50000\n",
       "unique                                              49582         2\n",
       "top     Loved today's show!!! It was a variety and not...  positive\n",
       "freq                                                    5     25000"
      ]
     },
     "execution_count": 25,
     "metadata": {},
     "output_type": "execute_result"
    }
   ],
   "source": [
    "# Inspecting data\n",
    "\n",
    "imdb_data.info()\n",
    "imdb_data.describe()"
   ]
  },
  {
   "cell_type": "markdown",
   "metadata": {
    "colab_type": "text",
    "id": "MkcFCaSC6Jgd"
   },
   "source": [
    "### Preprocessing"
   ]
  },
  {
   "cell_type": "markdown",
   "metadata": {},
   "source": [
    "Removing all the html tags in the text."
   ]
  },
  {
   "cell_type": "code",
   "execution_count": 26,
   "metadata": {
    "colab": {},
    "colab_type": "code",
    "id": "1Vhscttk6Jge"
   },
   "outputs": [],
   "source": [
    "# Some preprocssing\n",
    "# There are some html break tags(replacing them with ' ')\n",
    "\n",
    "imdb_data['review'] = [re.sub(r'<.*?>', ' ', review) for review in imdb_data['review']]"
   ]
  },
  {
   "cell_type": "code",
   "execution_count": 27,
   "metadata": {
    "colab": {},
    "colab_type": "code",
    "id": "DpAFB-K76Jgi"
   },
   "outputs": [],
   "source": [
    "# Adding few columns\n",
    "\n",
    "imdb_data['review_len'] = imdb_data['review'].apply(lambda x: len(x.split()))"
   ]
  },
  {
   "cell_type": "code",
   "execution_count": 28,
   "metadata": {
    "colab": {},
    "colab_type": "code",
    "id": "6kOOV0Hp6Jgl"
   },
   "outputs": [],
   "source": [
    "# Converting 'sentiment' into numerical value\n",
    "\n",
    "imdb_data['sentiment_numerical'] = np.where(imdb_data['sentiment'] == 'positive', 1, 0)"
   ]
  },
  {
   "cell_type": "code",
   "execution_count": 29,
   "metadata": {
    "colab": {},
    "colab_type": "code",
    "id": "iQkRxglM6Jgp"
   },
   "outputs": [],
   "source": [
    "# Separating out features and labels\n",
    "\n",
    "X = imdb_data['review']\n",
    "y = imdb_data['sentiment_numerical']"
   ]
  },
  {
   "cell_type": "code",
   "execution_count": 30,
   "metadata": {
    "colab": {},
    "colab_type": "code",
    "id": "R9kluQCt6Jgs"
   },
   "outputs": [],
   "source": [
    "# Train-Test Split\n",
    "\n",
    "X_train, X_test, y_train, y_test = train_test_split(X, y, test_size=0.25, random_state=88)"
   ]
  },
  {
   "cell_type": "code",
   "execution_count": 31,
   "metadata": {
    "colab": {},
    "colab_type": "code",
    "id": "6fhFBsVq6Jg0"
   },
   "outputs": [],
   "source": [
    "max_words = 10000\n",
    "oov_token = '<OOV>'\n",
    "\n",
    "tokenizer = tf.keras.preprocessing.text.Tokenizer(num_words=max_words, oov_token=oov_token)"
   ]
  },
  {
   "cell_type": "code",
   "execution_count": 32,
   "metadata": {
    "colab": {},
    "colab_type": "code",
    "id": "bxgwsjUV6Jg5"
   },
   "outputs": [],
   "source": [
    "tokenizer.fit_on_texts(X)"
   ]
  },
  {
   "cell_type": "code",
   "execution_count": 33,
   "metadata": {
    "colab": {},
    "colab_type": "code",
    "id": "DPIbTOUK6Jg9"
   },
   "outputs": [],
   "source": [
    "# Converting tokens into Sequences\n",
    "\n",
    "X_train_tokens = tokenizer.texts_to_sequences(X_train)\n",
    "X_test_tokens = tokenizer.texts_to_sequences(X_test)"
   ]
  },
  {
   "cell_type": "code",
   "execution_count": 34,
   "metadata": {
    "colab": {},
    "colab_type": "code",
    "id": "gZ5b2tBQ6Jg_"
   },
   "outputs": [],
   "source": [
    "max_train_word = int(np.mean(imdb_data['review_len']) + 2 * np.std(imdb_data['review_len']))"
   ]
  },
  {
   "cell_type": "code",
   "execution_count": 35,
   "metadata": {
    "colab": {},
    "colab_type": "code",
    "id": "hfRMZdJi6JhD"
   },
   "outputs": [],
   "source": [
    "# Padding the input to make it uniform length\n",
    "\n",
    "pad_type = 'pre'\n",
    "\n",
    "X_train_padded = tf.keras.preprocessing.sequence.pad_sequences(X_train_tokens, maxlen=max_train_word, padding=pad_type, truncating=pad_type)\n",
    "X_test_padded = tf.keras.preprocessing.sequence.pad_sequences(X_test_tokens, maxlen=max_train_word, padding=pad_type, truncating=pad_type)"
   ]
  },
  {
   "cell_type": "markdown",
   "metadata": {},
   "source": [
    "***Model Architecture***\n",
    "\n",
    "My model consists of 5 layers,\n",
    "1. Embedding layer (with a dimension of 8)\n",
    "  \n",
    "  which finds the word embedding's of all the unique words in the text which are tokenized by the 'tokenizer' function.\n",
    "\n",
    "2. LSTM (with an input dimension of 16)\n",
    "3. LSTM (with an input dimension of 8)\n",
    "4. LSTM (with an input dimension of 4)\n",
    "5. Dense (this output, the sentiment)\n",
    "\n",
    "For more information about the model you can see cell number 39.\n",
    "\n",
    "***Hyperparameters***\n",
    "\n",
    "The Hyperparameters for this model are\n",
    "* Input dimension\n",
    "* Ouput dimension\n",
    "* Length of the input sequence\n",
    "* Number of layers and there dimension's\n",
    "* Number of epochs\n",
    "* Batch Size"
   ]
  },
  {
   "cell_type": "code",
   "execution_count": 36,
   "metadata": {
    "colab": {},
    "colab_type": "code",
    "id": "zNJlZ_Kf6JhG"
   },
   "outputs": [],
   "source": [
    "# Defining the model\n",
    "\n",
    "embedding_dim = 8\n",
    "\n",
    "model = tf.keras.models.Sequential([\n",
    "    tf.keras.layers.Embedding(input_dim=max_words,\n",
    "                             output_dim=embedding_dim,\n",
    "                             input_length=max_train_word,\n",
    "                             name='embedding_layer'),\n",
    "    tf.keras.layers.LSTM(units=16, return_sequences=True),\n",
    "    tf.keras.layers.LSTM(units=8, return_sequences=True),\n",
    "    tf.keras.layers.LSTM(units=4),\n",
    "    tf.keras.layers.Dense(1, activation='sigmoid')\n",
    "])"
   ]
  },
  {
   "cell_type": "code",
   "execution_count": 37,
   "metadata": {
    "colab": {},
    "colab_type": "code",
    "id": "RVuBNl_n6JhJ"
   },
   "outputs": [],
   "source": [
    "# Defining the optimizer\n",
    "\n",
    "optimizer = tf.keras.optimizers.Adam(lr=0.1)"
   ]
  },
  {
   "cell_type": "code",
   "execution_count": 38,
   "metadata": {
    "colab": {},
    "colab_type": "code",
    "id": "1xeR_hLG6JhM"
   },
   "outputs": [],
   "source": [
    "model.compile(loss='binary_crossentropy',\n",
    "             optimizer=optimizer,\n",
    "             metrics=['acc'])"
   ]
  },
  {
   "cell_type": "code",
   "execution_count": 39,
   "metadata": {
    "colab": {
     "base_uri": "https://localhost:8080/",
     "height": 330
    },
    "colab_type": "code",
    "id": "1krqHbKp6JhQ",
    "outputId": "75172f2a-7d57-4494-d1c8-801bb48877f5"
   },
   "outputs": [
    {
     "name": "stdout",
     "output_type": "stream",
     "text": [
      "Model: \"sequential\"\n",
      "_________________________________________________________________\n",
      "Layer (type)                 Output Shape              Param #   \n",
      "=================================================================\n",
      "embedding_layer (Embedding)  (None, 568, 8)            80000     \n",
      "_________________________________________________________________\n",
      "unified_lstm (UnifiedLSTM)   (None, 568, 16)           1600      \n",
      "_________________________________________________________________\n",
      "unified_lstm_1 (UnifiedLSTM) (None, 568, 8)            800       \n",
      "_________________________________________________________________\n",
      "unified_lstm_2 (UnifiedLSTM) (None, 4)                 208       \n",
      "_________________________________________________________________\n",
      "dense (Dense)                (None, 1)                 5         \n",
      "=================================================================\n",
      "Total params: 82,613\n",
      "Trainable params: 82,613\n",
      "Non-trainable params: 0\n",
      "_________________________________________________________________\n"
     ]
    }
   ],
   "source": [
    "model.summary()"
   ]
  },
  {
   "cell_type": "code",
   "execution_count": 40,
   "metadata": {
    "colab": {
     "base_uri": "https://localhost:8080/",
     "height": 54
    },
    "colab_type": "code",
    "id": "81ESGKAj6JhT",
    "outputId": "e9c7e7a6-0009-4263-cec0-82fdc50d93ed"
   },
   "outputs": [
    {
     "name": "stdout",
     "output_type": "stream",
     "text": [
      "Train on 35625 samples, validate on 1875 samples\n",
      "Epoch 1/3\n",
      "35625/35625 [==============================] - 509s 14ms/sample - loss: 0.5812 - acc: 0.6847 - val_loss: 0.6976 - val_acc: 0.5893\n",
      "Epoch 2/3\n",
      "35625/35625 [==============================] - 569s 16ms/sample - loss: 0.5110 - acc: 0.7490 - val_loss: 0.4740 - val_acc: 0.7685\n",
      "Epoch 3/3\n",
      "35625/35625 [==============================] - 640s 18ms/sample - loss: 0.4290 - acc: 0.8065 - val_loss: 0.4418 - val_acc: 0.8011\n"
     ]
    }
   ],
   "source": [
    "# Model fitting on the training data\n",
    "\n",
    "epochs=3\n",
    "batch_size = 64\n",
    "\n",
    "history = model.fit(X_train_padded, y_train, validation_split=0.05, epochs=epochs, batch_size=batch_size)"
   ]
  },
  {
   "cell_type": "code",
   "execution_count": 41,
   "metadata": {
    "colab": {
     "base_uri": "https://localhost:8080/",
     "height": 52
    },
    "colab_type": "code",
    "id": "o4UcRkVl6JhY",
    "outputId": "f8d6f6cd-3315-42ad-a7bd-ec14ee3e8433"
   },
   "outputs": [
    {
     "name": "stdout",
     "output_type": "stream",
     "text": [
      "37500/37500 [==============================] - 130s 3ms/sample - loss: 0.3955 - acc: 0.8259s - loss: 0.3951 - acc: \n",
      "Training accuracy: 0.825867\n"
     ]
    }
   ],
   "source": [
    "# Measuring Training Loss \n",
    "\n",
    "train_loss = model.evaluate(X_train_padded, y_train)\n",
    "print(\"Training accuracy: {:6f}\".format(train_loss[1]))"
   ]
  },
  {
   "cell_type": "code",
   "execution_count": 42,
   "metadata": {
    "colab": {
     "base_uri": "https://localhost:8080/",
     "height": 52
    },
    "colab_type": "code",
    "id": "trj3ZtiR6Jhb",
    "outputId": "dcdd59f0-f7d3-498d-e704-5147b3342426"
   },
   "outputs": [
    {
     "name": "stdout",
     "output_type": "stream",
     "text": [
      "12500/12500 [==============================] - 40s 3ms/sample - loss: 0.4173 - acc: 0.8118\n",
      "Testing accuracy: 0.811760\n"
     ]
    }
   ],
   "source": [
    "# Measuring Testing Loss\n",
    "\n",
    "test_loss = model.evaluate(X_test_padded, y_test)\n",
    "print(\"Testing accuracy: {:6f}\".format(test_loss[1]))"
   ]
  },
  {
   "cell_type": "markdown",
   "metadata": {
    "colab_type": "text",
    "id": "-yfwnvYr6Jhf"
   },
   "source": [
    "## Now introducing the original data"
   ]
  },
  {
   "cell_type": "markdown",
   "metadata": {
    "colab_type": "text",
    "id": "BDHfN9v46Jhf"
   },
   "source": [
    "### Some preprocessing"
   ]
  },
  {
   "cell_type": "markdown",
   "metadata": {},
   "source": [
    "Removing all the emoji's from the text and converting the text into lower case."
   ]
  },
  {
   "cell_type": "code",
   "execution_count": 43,
   "metadata": {
    "colab": {
     "base_uri": "https://localhost:8080/",
     "height": 205
    },
    "colab_type": "code",
    "id": "NHSx2yLE6Jhg",
    "outputId": "1e891c5c-f8a0-480a-a262-cb4a6dfb5df6"
   },
   "outputs": [],
   "source": [
    "# Removing unnecessary spaces and emoji's \n",
    "\n",
    "data3['tweet'] = data3['tweet'].apply(lambda x: \" \".join(map(str.lower, x.split())))\n",
    "data3['tweet'] = data3['tweet'].apply(lambda x: \"\".join([char for char in x if char not in emoji.UNICODE_EMOJI]))"
   ]
  },
  {
   "cell_type": "markdown",
   "metadata": {
    "colab_type": "text",
    "id": "Ocko1yp9Zcf9"
   },
   "source": [
    "### Prediction using pretrained model"
   ]
  },
  {
   "cell_type": "code",
   "execution_count": 44,
   "metadata": {
    "colab": {},
    "colab_type": "code",
    "id": "lr-Quzd-6Jhj"
   },
   "outputs": [],
   "source": [
    "# Applying trained model on tweets data\n",
    "\n",
    "X_data_tokens = tokenizer.texts_to_sequences(data3['tweet'])\n",
    "X_data_padded = tf.keras.preprocessing.sequence.pad_sequences(X_data_tokens, maxlen=max_train_word, padding=pad_type, truncating=pad_type)"
   ]
  },
  {
   "cell_type": "code",
   "execution_count": 49,
   "metadata": {
    "colab": {},
    "colab_type": "code",
    "id": "MRudTdwS6Jhn"
   },
   "outputs": [],
   "source": [
    "predicted = model.predict(X_data_padded)\n",
    "sentiment = np.where(predicted > 0.5, 'Positive', 'Negative') "
   ]
  },
  {
   "cell_type": "code",
   "execution_count": 50,
   "metadata": {
    "colab": {},
    "colab_type": "code",
    "id": "7nC-61qS6Jhv"
   },
   "outputs": [],
   "source": [
    "final_data = pd.DataFrame(data=np.append(predicted, sentiment, axis=1), columns=['Polarity_value', 'Polarity_type'])"
   ]
  },
  {
   "cell_type": "markdown",
   "metadata": {
    "colab_type": "text",
    "id": "_IaUizaAZTTI"
   },
   "source": [
    "### Visualization"
   ]
  },
  {
   "cell_type": "code",
   "execution_count": 51,
   "metadata": {
    "colab": {},
    "colab_type": "code",
    "id": "A_ZbfNy0ZnA_"
   },
   "outputs": [
    {
     "data": {
      "text/plain": [
       "<BarContainer object of 2 artists>"
      ]
     },
     "execution_count": 51,
     "metadata": {},
     "output_type": "execute_result"
    },
    {
     "data": {
      "image/png": "[encoded data removed]",
      "text/plain": [
       "<Figure size 864x504 with 1 Axes>"
      ]
     },
     "metadata": {
      "needs_background": "light"
     },
     "output_type": "display_data"
    }
   ],
   "source": [
    "# Some plots\n",
    "\n",
    "_, ax = plt.subplots()\n",
    "ax.set_xlabel(\"Polarity Type\", fontsize=15)\n",
    "ax.set_ylabel(\"Number of Tweets\", fontsize=15)\n",
    "ax.set_title(\"Value Count of each Polarity\", fontsize=20)\n",
    "ax.bar(final_data['Polarity_type'].unique(), final_data['Polarity_type'].value_counts())"
   ]
  },
  {
   "cell_type": "markdown",
   "metadata": {},
   "source": [
    "# Comparision between Lexicon and Machine learning Prediction\n",
    "\n",
    "The prediction from the neural network is actually in between 0 and 1(0 most negative, and 1 most positive).\n",
    "\n",
    "So, I have mapped the \\[0, 1\\] range to \\[-1, 1\\] using the below function."
   ]
  },
  {
   "cell_type": "code",
   "execution_count": 52,
   "metadata": {},
   "outputs": [],
   "source": [
    "# Required function\n",
    "\n",
    "def map_ab_to_cd(x, a, b, c, d):\n",
    "    shifted = ((d - c) * ((x - a) / (b - a))) + c\n",
    "    \n",
    "    return shifted"
   ]
  },
  {
   "cell_type": "code",
   "execution_count": 53,
   "metadata": {},
   "outputs": [],
   "source": [
    "# Map [0, 1] sentiment to [-1, 1]\n",
    "\n",
    "predicted_map = map_ab_to_cd(predicted, 0, 1, -1, 1)\n",
    "sentiment_map = np.where(predicted_map > 0.05, 'Positive', np.where(predicted_map < -0.05, 'Negative', 'Neutral'))"
   ]
  },
  {
   "cell_type": "code",
   "execution_count": 71,
   "metadata": {},
   "outputs": [
    {
     "data": {
      "text/plain": [
       "(3.0, 0.0)"
      ]
     },
     "execution_count": 71,
     "metadata": {},
     "output_type": "execute_result"
    },
    {
     "data": {
      "image/png": "[encoded data removed]",
      "text/plain": [
       "<Figure size 864x504 with 2 Axes>"
      ]
     },
     "metadata": {
      "needs_background": "light"
     },
     "output_type": "display_data"
    }
   ],
   "source": [
    "# Confusion matrix between textblob and neural network model\n",
    "\n",
    "con_mat = confusion_matrix(sentiment_map, data1['polarity_type'].values)\n",
    "\n",
    "_, ax = plt.subplots()\n",
    "sns.heatmap(con_mat, annot=True, vmin=0, ax=ax)\n",
    "ax.set_title(\"Confusion Matrix(textblob vs neural network)\", fontsize=20)\n",
    "ax.set_xlabel(\"Neural Network\", fontsize=15)\n",
    "ax.set_ylabel(\"TextBlob\", fontsize=15)\n",
    "ax.xaxis.set_ticklabels(['Negative', 'Neutral', 'Positive'])\n",
    "ax.yaxis.set_ticklabels(['Negative', 'Neutral', 'Positive'])\n",
    "ax.set_ylim(sorted(ax.get_xlim(), reverse=True))"
   ]
  },
  {
   "cell_type": "code",
   "execution_count": 72,
   "metadata": {},
   "outputs": [
    {
     "data": {
      "text/plain": [
       "(3.0, 0.0)"
      ]
     },
     "execution_count": 72,
     "metadata": {},
     "output_type": "execute_result"
    },
    {
     "data": {
      "image/png": "[encoded data removed]",
      "text/plain": [
       "<Figure size 864x504 with 2 Axes>"
      ]
     },
     "metadata": {
      "needs_background": "light"
     },
     "output_type": "display_data"
    }
   ],
   "source": [
    "# Confusion matrix between textblob and neural network model\n",
    "\n",
    "con_mat = confusion_matrix(sentiment_map, data2['polarity_type'].values)\n",
    "\n",
    "_, ax = plt.subplots()\n",
    "sns.heatmap(con_mat, annot=True, vmin=0, ax=ax)\n",
    "ax.set_title(\"Confusion Matrix(vaderSentiment vs neural network)\", fontsize=20)\n",
    "ax.set_xlabel(\"Neural Network\", fontsize=15)\n",
    "ax.set_ylabel(\"Vader Sentiment\", fontsize=15)\n",
    "ax.xaxis.set_ticklabels(['Negative', 'Neutral', 'Positive'])\n",
    "ax.yaxis.set_ticklabels(['Negative', 'Neutral', 'Positive'])\n",
    "ax.set_ylim(sorted(ax.get_xlim(), reverse=True))"
   ]
  }
 ],
 "metadata": {
  "colab": {
   "collapsed_sections": [
    "CcMyvMfc6JfX",
    "UZ8g49Us6Jfq",
    "eklUPcip6Jf2",
    "mJ2Z3nx76JgL"
   ],
   "name": "Sentiment Analysis for Twitter Data.ipynb",
   "provenance": []
  },
  "kernelspec": {
   "display_name": "Python 3",
   "language": "python",
   "name": "python3"
  },
  "language_info": {
   "codemirror_mode": {
    "name": "ipython",
    "version": 3
   },
   "file_extension": ".py",
   "mimetype": "text/x-python",
   "name": "python",
   "nbconvert_exporter": "python",
   "pygments_lexer": "ipython3",
   "version": "3.6.9"
  }
 },
 "nbformat": 4,
 "nbformat_minor": 1
}
